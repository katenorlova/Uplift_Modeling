{
 "cells": [
  {
   "cell_type": "markdown",
   "metadata": {
    "id": "Erg6LkuFPzei"
   },
   "source": [
    "# **Final project:** **Modern approaches to the assessment of demand sensitivity based on uplift models and neural networks**\n",
    "\n",
    "## This notebook is devoted to testing meta-learners"
   ]
  },
  {
   "cell_type": "markdown",
   "metadata": {
    "id": "pqks0mH3Pzeo"
   },
   "source": [
    "Anastasiia Kurmukova, Daria Ustinova, Evgeny Avdotin, Kundyz Onlabek"
   ]
  },
  {
   "cell_type": "code",
   "execution_count": 3,
   "metadata": {
    "id": "1DP9CspnPzep"
   },
   "outputs": [],
   "source": [
    "import numpy as np \n",
    "import pandas as pd \n",
    "import datetime\n",
    "from sklearn.model_selection import train_test_split\n",
    "from sklearn.ensemble import GradientBoostingClassifier\n",
    "from sklearn.linear_model import LogisticRegression\n",
    "from sklearn.neighbors import KNeighborsClassifier\n",
    "from sklearn.ensemble import RandomForestClassifier\n",
    "from sklearn import linear_model\n",
    "from sklearn.ensemble import AdaBoostClassifier\n",
    "import xgboost as xgb"
   ]
  },
  {
   "cell_type": "code",
   "execution_count": 4,
   "metadata": {
    "colab": {
     "base_uri": "https://localhost:8080/"
    },
    "id": "ZkZcRZN3P-Zq",
    "outputId": "3fa63c2a-61c6-47eb-8824-61033b67f18f"
   },
   "outputs": [],
   "source": [
    "# !pip -q install causalml\n",
    "# !wget https://www.dropbox.com/s/w7ckhpg24qo24ao/datasets.zip?dl=0 -O datasets.zip\n",
    "# !unzip -n datasets.zip\n",
    "# # !pip -q install scikit-uplift\n",
    "# !wget https://www.dropbox.com/s/ph0p8jqmdgnyiim/learners.zip?dl=0 -O learners.zip\n",
    "# !unzip -n learners.zip"
   ]
  },
  {
   "cell_type": "markdown",
   "metadata": {
    "id": "Epets8kHPzep"
   },
   "source": [
    "#  **Data preprocessing:X5**"
   ]
  },
  {
   "cell_type": "code",
   "execution_count": 5,
   "metadata": {
    "id": "6nQGtAWRRsLm"
   },
   "outputs": [],
   "source": [
    "df_x5 = pd.read_csv('retail_hero_final_model_train_data.csv', index_col='client_id')\n",
    "df_features, w, y = df_x5[['first_redeem_date', 'express_spent_mean',\n",
    "       'express_points_spent_sum', 'regular_points_received_sum_last_m',\n",
    "       'avg_spent_perday', 'after_redeem_sum_perday']], df_x5['treatment_flg'], df_x5['target']\n",
    "\n",
    "def x5_coding(x):\n",
    "    return int(str(int(x['treatment_flg']))+str(int(x['target'])), 2)\n",
    "\n",
    "df_x5['coding'] = df_x5.apply(x5_coding, axis=1)\n",
    "c = df_x5['coding']\n",
    "\n",
    "from sklearn.model_selection import train_test_split\n",
    "indices_learn, indices_valid = train_test_split(df_x5.index, test_size=0.3,random_state=0)\n",
    "X_train, w_train, y_train, c_train = df_features.loc[indices_learn].fillna(0), w.loc[indices_learn], y.loc[indices_learn], c.loc[indices_learn]\n",
    "X_valid, w_valid, y_valid, c_valid = df_features.loc[indices_valid].fillna(0), w.loc[indices_valid], y.loc[indices_valid], c.loc[indices_valid]"
   ]
  },
  {
   "cell_type": "markdown",
   "metadata": {
    "id": "QWwnZVzjGJiZ"
   },
   "source": [
    "# **Data preprocessing: Kuusisto thesis**"
   ]
  },
  {
   "cell_type": "code",
   "execution_count": 6,
   "metadata": {
    "id": "7FjzRv0iGJ9d"
   },
   "outputs": [],
   "source": [
    "import pandas as pd\n",
    "from sklearn.preprocessing import OneHotEncoder\n",
    "\n",
    "def kuusisto_coding(x):\n",
    "    return int(str(x['w'])+str(x['target']), 2)\n",
    "\n",
    "def kuusisto_preprocessing(df):\n",
    "    \n",
    "    df = df.drop(['customer_type'],axis=1)\n",
    "    df['target'] = df['outcome'].apply(lambda x: 1 if x=='positive' else 0)\n",
    "    df['w'] = df['target_control'].apply(lambda x: 1 if x=='target' else 0) \n",
    "    df['coding'] = df.apply(kuusisto_coding, axis=1)  \n",
    "    df = df.drop(['outcome','target_control'],axis=1)\n",
    "    \n",
    "    ohe = OneHotEncoder(sparse=False)\n",
    "    encoded_features = pd.DataFrame(ohe.fit_transform(df[['Node1','Node2','Node3','Node4',\n",
    "                                                          'Node5','Node6','Node7','Node8',\n",
    "                                                          'Node9','Node10','Node11','Node12',\n",
    "                                                          'Node13','Node14','Node15','Node17',\n",
    "                                                          'Node18','Node19','Node20']]))\n",
    "    \n",
    "    df = df.drop(['Node1','Node2','Node3','Node4','Node5','Node6','Node7',\n",
    "                  'Node8','Node9','Node10','Node11','Node12','Node13','Node14',\n",
    "                  'Node15','Node17','Node18','Node19','Node20'],axis=1)\n",
    "    \n",
    "    df = pd.concat([df,encoded_features],axis=1)\n",
    "    df = df.dropna()\n",
    "    c = df['coding']\n",
    "    y = df['target']\n",
    "    w = df['w']\n",
    "    X = df.drop(['target','w','coding'],axis=1)\n",
    "        \n",
    "    return X,y,w,c"
   ]
  },
  {
   "cell_type": "code",
   "execution_count": 7,
   "metadata": {
    "id": "D5Xh3YRcHy6X"
   },
   "outputs": [],
   "source": [
    "df = pd.read_csv('stereotypical_customer_simulation.csv',index_col='customer_id')"
   ]
  },
  {
   "cell_type": "markdown",
   "metadata": {
    "id": "g_4PRuDuxNVL"
   },
   "source": [
    "# **Data preprocessing: MineThatData**\n"
   ]
  },
  {
   "cell_type": "code",
   "execution_count": 8,
   "metadata": {
    "id": "o-cGz6A0EvJh"
   },
   "outputs": [],
   "source": [
    "from sklift.datasets import fetch_hillstrom\n",
    "from sklearn.preprocessing import OneHotEncoder\n",
    "def mine_coding(dataset):\n",
    "    return int(str(int(dataset['segment']))+str(int(dataset['visit'])), 2)\n",
    "\n",
    "def mine_preproccessing():  \n",
    "    bunch = fetch_hillstrom(target_col='visit')\n",
    "\n",
    "    dataset, target, treatment = bunch['data'], bunch['target'], bunch['treatment']\n",
    "\n",
    "    # Selecting two segments\n",
    "    dataset = dataset[treatment!='Mens E-Mail']\n",
    "    target = target[treatment!='Mens E-Mail']\n",
    "    treatment = treatment[treatment!='Mens E-Mail'].map({\n",
    "        'Womens E-Mail': 1,\n",
    "        'No E-Mail': 0\n",
    "    })\n",
    "    cat_cols = dataset.select_dtypes(include='object').columns.tolist()\n",
    "    ohe = OneHotEncoder(sparse=False)\n",
    "    encoded_features = pd.DataFrame(ohe.fit_transform(dataset[cat_cols]))\n",
    "\n",
    "    dataset = pd.concat([dataset,target,treatment],axis=1)\n",
    "    dataset = dataset.drop(cat_cols,axis=1)\n",
    "    dataset = pd.concat([dataset,encoded_features],axis=1)\n",
    "    dataset = dataset.dropna()\n",
    "\n",
    "    dataset['coding'] = dataset.apply(mine_coding, axis=1) \n",
    "\n",
    "    c = dataset['coding']\n",
    "    y = dataset['visit'].astype(int)\n",
    "    w = dataset['segment'].astype(int)\n",
    "    X = dataset.drop(['visit','segment','coding'],axis=1)\n",
    "\n",
    "    return X,y,w,c"
   ]
  },
  {
   "cell_type": "markdown",
   "metadata": {
    "id": "Rxx75Z7kPzes"
   },
   "source": [
    "## **Base meta learners**"
   ]
  },
  {
   "cell_type": "code",
   "execution_count": 9,
   "metadata": {
    "id": "u_1nG8mGPzet"
   },
   "outputs": [
    {
     "name": "stderr",
     "output_type": "stream",
     "text": [
      "The sklearn.utils.testing module is  deprecated in version 0.22 and will be removed in version 0.24. The corresponding classes / functions should instead be imported from sklearn.utils. Anything that cannot be imported from sklearn.utils is now part of the private API.\n"
     ]
    }
   ],
   "source": [
    "from Slearner import Slearner\n",
    "from Tlearner import Tlearner\n",
    "from Xlearner import Xlearner\n",
    "from Rlearner import Rlearner\n",
    "\n",
    "from causalml.inference.meta import BaseSClassifier\n",
    "from causalml.inference.meta import BaseTClassifier\n",
    "from causalml.inference.meta import BaseXLearner\n",
    "from causalml.inference.meta import BaseRLearner"
   ]
  },
  {
   "cell_type": "markdown",
   "metadata": {
    "id": "Us3hv5MpjnNG"
   },
   "source": [
    "Grid search for meta learners"
   ]
  },
  {
   "cell_type": "code",
   "execution_count": 10,
   "metadata": {
    "colab": {
     "background_save": true
    },
    "id": "DOieMdVtPGd1"
   },
   "outputs": [],
   "source": [
    "import itertools\n",
    "from sklearn.model_selection import ParameterGrid\n",
    "from sklift.metrics import (uplift_at_k, uplift_auc_score, qini_auc_score, weighted_average_uplift)\n",
    "from sklearn.model_selection import KFold\n",
    "\n",
    "kf = KFold(n_splits=3,random_state=1,shuffle=True)\n",
    "\n",
    "def grid_search_one_model(learner):\n",
    "    # Grid Search over 1 model for s and x learner\n",
    "    \n",
    "    models = [RandomForestClassifier(random_state=0,n_jobs=-1), LogisticRegression(random_state=42,n_jobs=-1),\n",
    "          xgb.XGBClassifier(random_state=1,n_jobs=-1), KNeighborsClassifier(n_jobs=-1)]\n",
    "    \n",
    "    xgb_params = {'n_estimators':[50, 100], 'max_depth':[3,5]}\n",
    "    rf_params = {'n_estimators':[50, 100], 'max_depth':[7, 11]}\n",
    "    knn_params = {'n_neighbors':[10, 20, 50]}\n",
    "    lr_params = {'penalty':['l2']}\n",
    "    \n",
    "    grid = [[RandomForestClassifier(random_state=0,n_jobs=-1),rf_params],[LogisticRegression(random_state=42,n_jobs=-1),lr_params],\n",
    "            [xgb.XGBClassifier(random_state=1,n_jobs=-1),xgb_params],[KNeighborsClassifier(n_jobs=-1),knn_params]]\n",
    "\n",
    "    best_qini_score = 0\n",
    "    best_model_qini = 0\n",
    "          \n",
    "\n",
    "    for m in grid:\n",
    "        \n",
    "        model = m[0]\n",
    "        param = m[1]\n",
    "        \n",
    "        \n",
    "        for i in ParameterGrid(param):\n",
    "\n",
    "            model.set_params(**i)\n",
    "            qini_auc=[]\n",
    "            \n",
    "            for train_index, test_index in kf.split(X_train):\n",
    "                X_train_split, X_test_split = X_train.loc[X_train.index[train_index]], X_train.loc[X_train.index[test_index]]\n",
    "                y_train_split, y_test_split = y_train[y_train.index[train_index]], y_train[y_train.index[test_index]]\n",
    "                w_train_split, w_test_split = w_train[w_train.index[train_index]], w_train[w_train.index[test_index]]\n",
    "\n",
    "                if learner==Xlearner:\n",
    "                    \n",
    "                    my_lrn = learner(model)\n",
    "                    my_lrn.fit(X_train_split, w_train_split, y_train_split)\n",
    "                else:\n",
    "                    my_lrn = learner(model)\n",
    "                    my_lrn.fit(X_train_split, y_train_split, w_train_split)\n",
    "                predict_lrn = my_lrn.predict(X_test_split)\n",
    "                qini_auc.append(qini_auc_score(y_true= y_test_split, uplift=predict_lrn, treatment=w_test_split))\n",
    "                \n",
    "            if np.mean(qini_auc) > np.mean(best_qini_score):\n",
    "                best_qini_score = qini_auc\n",
    "                best_model_qini = model\n",
    "                \n",
    "            \n",
    "    return best_model_qini, best_qini_score "
   ]
  },
  {
   "cell_type": "code",
   "execution_count": 11,
   "metadata": {
    "id": "lKBT3IEGJyb_"
   },
   "outputs": [],
   "source": [
    "import itertools\n",
    "from sklearn.model_selection import ParameterGrid\n",
    "from sklift.metrics import (uplift_at_k, uplift_auc_score, qini_auc_score, weighted_average_uplift)\n",
    "from sklearn.model_selection import KFold\n",
    "from sklearn.ensemble import RandomForestRegressor\n",
    "from sklearn.neighbors import KNeighborsRegressor\n",
    "from sklearn.linear_model import SGDRegressor\n",
    "import xgboost as xgb\n",
    "\n",
    "\n",
    "kf = KFold(n_splits=3,random_state=1,shuffle=True)\n",
    "\n",
    "def grid_search_regressor(learner):\n",
    "    # Grid Search over 1 model for s and x learner\n",
    "    \n",
    "    models = [RandomForestRegressor(random_state=0,n_jobs=-1),SGDRegressor(random_state=42),\n",
    "              xgb.XGBRegressor(random_state=1,n_jobs=-1), KNeighborsRegressor(n_jobs=-1)]\n",
    "    \n",
    "    xgb_params = {'n_estimators':[50, 100], 'max_depth':[3,5]}\n",
    "    rf_params = {'n_estimators':[50, 100], 'max_depth':[7, 11]}\n",
    "    knn_params = {'n_neighbors':[10, 20, 50]}\n",
    "    lr_params = {'penalty':['l2']}\n",
    "    \n",
    "    grid = [[RandomForestRegressor(random_state=0,n_jobs=-1),rf_params],[SGDRegressor(random_state=42),lr_params],\n",
    "            [xgb.XGBRegressor(random_state=1,n_jobs=-1),xgb_params],[KNeighborsRegressor(n_jobs=-1),knn_params]]\n",
    "\n",
    "    best_qini_score = 0\n",
    "    best_model_qini = 0\n",
    "          \n",
    "\n",
    "    for m in grid:\n",
    "        \n",
    "        model = m[0]\n",
    "        param = m[1]\n",
    "        \n",
    "        \n",
    "        for i in ParameterGrid(param):\n",
    "\n",
    "            model.set_params(**i)\n",
    "            qini_auc=[]\n",
    "            \n",
    "            for train_index, test_index in kf.split(X_train):\n",
    "                X_train_split, X_test_split = X_train.loc[X_train.index[train_index]], X_train.loc[X_train.index[test_index]]\n",
    "                y_train_split, y_test_split = y_train[y_train.index[train_index]], y_train[y_train.index[test_index]]\n",
    "                w_train_split, w_test_split = w_train[w_train.index[train_index]], w_train[w_train.index[test_index]] \n",
    "                \n",
    "                my_lrn = learner(model)\n",
    "                my_lrn.fit(X_train_split, w_train_split, y_train_split)\n",
    "                predict_lrn = my_lrn.predict(X_test_split)\n",
    "                \n",
    "                qini_auc.append(qini_auc_score(y_true= y_test_split, uplift=predict_lrn, treatment=w_test_split))\n",
    "                \n",
    "            if np.mean(qini_auc) > np.mean(best_qini_score):\n",
    "                best_qini_score = qini_auc\n",
    "                best_model_qini = model\n",
    "                \n",
    "            \n",
    "    return best_model_qini, best_qini_score "
   ]
  },
  {
   "cell_type": "code",
   "execution_count": 12,
   "metadata": {
    "colab": {
     "background_save": true
    },
    "id": "JjExMharIYV5"
   },
   "outputs": [],
   "source": [
    "import itertools\n",
    "from sklearn.model_selection import ParameterGrid\n",
    "from sklift.metrics import (uplift_at_k, uplift_auc_score, qini_auc_score, weighted_average_uplift)\n",
    "from sklearn.model_selection import KFold\n",
    "\n",
    "kf = KFold(n_splits=3,random_state=1,shuffle=True)\n",
    "\n",
    "def grid_search_two_models(learner):\n",
    "    # Grid Search over 2 models for r and t learner\n",
    "    \n",
    "    models = [RandomForestClassifier(random_state=0,n_jobs=-1), LogisticRegression(random_state=42,n_jobs=-1),\n",
    "          xgb.XGBClassifier(random_state=1,n_jobs=-1), KNeighborsClassifier(n_jobs=-1)]\n",
    "    \n",
    "    xgb_params = {'n_estimators':[50, 100], 'max_depth':[3,5]}\n",
    "    rf_params = {'n_estimators':[50, 100], 'max_depth':[7, 11]}\n",
    "    knn_params = {'n_neighbors':[10, 20, 50]}\n",
    "    lr_params = {'penalty':['l2']}\n",
    "    \n",
    "    grid = [[RandomForestClassifier(random_state=0,n_jobs=-1),rf_params],[LogisticRegression(random_state=42,n_jobs=-1),lr_params],\n",
    "            [xgb.XGBClassifier(random_state=1,n_jobs=-1),xgb_params],[KNeighborsClassifier(n_jobs=-1),knn_params]]\n",
    "\n",
    "    best_qini_score = 0\n",
    "    #best_uplift_score = 0\n",
    "    best_model1_qini = 0\n",
    "    best_model2_qini = 0\n",
    "    #best_model1_uplift = 0\n",
    "    #best_model2_uplift = 0\n",
    "        \n",
    "\n",
    "    for m1,m2 in itertools.product(grid, repeat=2):\n",
    "        \n",
    "        model1 = m1[0]\n",
    "        param1 = m1[1]\n",
    "        \n",
    "        model2 = m2[0]\n",
    "        param2 = m2[1]\n",
    "        \n",
    "        \n",
    "        for i,j in itertools.product(ParameterGrid(param1),ParameterGrid(param2)):\n",
    "            model1.set_params(**i)\n",
    "            model2.set_params(**j)\n",
    "            qini_auc=[]\n",
    "            #uplift_auc=[]\n",
    "            for train_index, test_index in kf.split(X_train):\n",
    "                X_train_split, X_test_split = X_train.loc[X_train.index[train_index]], X_train.loc[X_train.index[test_index]]\n",
    "                y_train_split, y_test_split = y_train[y_train.index[train_index]], y_train[y_train.index[test_index]]\n",
    "                w_train_split, w_test_split = w_train[w_train.index[train_index]], w_train[w_train.index[test_index]]\n",
    "                c_train_split, c_test_split = c_train[c_train.index[train_index]], c_train[c_train.index[test_index]]\n",
    "\n",
    "                if learner==Rlearner:\n",
    "                    lasso = linear_model.Lasso(alpha=0.9)\n",
    "                    my_lrn = learner(learner=lasso, model_w=model1, model_y=model2, n_fold=5, method='original')\n",
    "                    my_lrn.fit(X_train_split, y_train_split, w_train_split, c_train_split)\n",
    "                else:\n",
    "                    my_lrn = learner(model1,model2)\n",
    "                    my_lrn.fit(X_train_split, y_train_split, w_train_split)\n",
    "                predict_lrn = my_lrn.predict(X_test_split)\n",
    "                qini_auc.append(qini_auc_score(y_true= y_test_split, uplift=predict_lrn, treatment=w_test_split))\n",
    "                #uplift_auc.append(uplift_auc_score(y_true= y_test_split, uplift=predict_lrn, treatment=w_test_split))\n",
    "                \n",
    "            if np.mean(qini_auc) > np.mean(best_qini_score):\n",
    "                best_qini_score = qini_auc\n",
    "                best_model1_qini = model1\n",
    "                best_model2_qini = model2\n",
    "                \n",
    "            #if np.mean(uplift_auc) > np.mean(best_uplift_score):\n",
    "             #   best_uplift_score = uplift_auc\n",
    "              #  best_model1_uplift = model1\n",
    "               # best_model2_uplift = model2\n",
    "            \n",
    "    return best_model1_qini, best_model2_qini, best_qini_score #, best_model1_uplift, best_model2_uplift, best_uplift_score"
   ]
  },
  {
   "cell_type": "markdown",
   "metadata": {
    "id": "LKQkytwCH7td"
   },
   "source": [
    "# Testing X5 dataset"
   ]
  },
  {
   "cell_type": "code",
   "execution_count": 13,
   "metadata": {
    "id": "LEpOsxVtgiN7"
   },
   "outputs": [
    {
     "ename": "NameError",
     "evalue": "name 'x5_preprocessing' is not defined",
     "output_type": "error",
     "traceback": [
      "\u001b[1;31m---------------------------------------------------------------------------\u001b[0m",
      "\u001b[1;31mNameError\u001b[0m                                 Traceback (most recent call last)",
      "\u001b[1;32m<ipython-input-13-26bf3ea65048>\u001b[0m in \u001b[0;36m<module>\u001b[1;34m\u001b[0m\n\u001b[1;32m----> 1\u001b[1;33m \u001b[0mdf_features\u001b[0m\u001b[1;33m,\u001b[0m \u001b[0mw\u001b[0m\u001b[1;33m,\u001b[0m \u001b[0my\u001b[0m\u001b[1;33m,\u001b[0m \u001b[0mc\u001b[0m \u001b[1;33m=\u001b[0m \u001b[0mx5_preprocessing\u001b[0m\u001b[1;33m(\u001b[0m\u001b[0mdf_clients\u001b[0m\u001b[1;33m,\u001b[0m \u001b[0mdf_train\u001b[0m\u001b[1;33m)\u001b[0m\u001b[1;33m\u001b[0m\u001b[1;33m\u001b[0m\u001b[0m\n\u001b[0m\u001b[0;32m      2\u001b[0m \u001b[1;32mfrom\u001b[0m \u001b[0msklearn\u001b[0m\u001b[1;33m.\u001b[0m\u001b[0mmodel_selection\u001b[0m \u001b[1;32mimport\u001b[0m \u001b[0mtrain_test_split\u001b[0m\u001b[1;33m\u001b[0m\u001b[1;33m\u001b[0m\u001b[0m\n\u001b[0;32m      3\u001b[0m \u001b[0mindices_learn\u001b[0m\u001b[1;33m,\u001b[0m \u001b[0mindices_valid\u001b[0m \u001b[1;33m=\u001b[0m \u001b[0mtrain_test_split\u001b[0m\u001b[1;33m(\u001b[0m\u001b[0mdf_train\u001b[0m\u001b[1;33m.\u001b[0m\u001b[0mindex\u001b[0m\u001b[1;33m,\u001b[0m \u001b[0mtest_size\u001b[0m\u001b[1;33m=\u001b[0m\u001b[1;36m0.3\u001b[0m\u001b[1;33m,\u001b[0m\u001b[0mrandom_state\u001b[0m\u001b[1;33m=\u001b[0m\u001b[1;36m0\u001b[0m\u001b[1;33m)\u001b[0m\u001b[1;33m\u001b[0m\u001b[1;33m\u001b[0m\u001b[0m\n\u001b[0;32m      4\u001b[0m \u001b[0mX_train\u001b[0m\u001b[1;33m,\u001b[0m \u001b[0mw_train\u001b[0m\u001b[1;33m,\u001b[0m \u001b[0my_train\u001b[0m\u001b[1;33m,\u001b[0m \u001b[0mc_train\u001b[0m \u001b[1;33m=\u001b[0m \u001b[0mdf_features\u001b[0m\u001b[1;33m.\u001b[0m\u001b[0mloc\u001b[0m\u001b[1;33m[\u001b[0m\u001b[0mindices_learn\u001b[0m\u001b[1;33m]\u001b[0m\u001b[1;33m,\u001b[0m \u001b[0mw\u001b[0m\u001b[1;33m.\u001b[0m\u001b[0mloc\u001b[0m\u001b[1;33m[\u001b[0m\u001b[0mindices_learn\u001b[0m\u001b[1;33m]\u001b[0m\u001b[1;33m,\u001b[0m \u001b[0my\u001b[0m\u001b[1;33m.\u001b[0m\u001b[0mloc\u001b[0m\u001b[1;33m[\u001b[0m\u001b[0mindices_learn\u001b[0m\u001b[1;33m]\u001b[0m\u001b[1;33m,\u001b[0m \u001b[0mc\u001b[0m\u001b[1;33m.\u001b[0m\u001b[0mloc\u001b[0m\u001b[1;33m[\u001b[0m\u001b[0mindices_learn\u001b[0m\u001b[1;33m]\u001b[0m\u001b[1;33m\u001b[0m\u001b[1;33m\u001b[0m\u001b[0m\n\u001b[0;32m      5\u001b[0m \u001b[0mX_valid\u001b[0m\u001b[1;33m,\u001b[0m \u001b[0mw_valid\u001b[0m\u001b[1;33m,\u001b[0m \u001b[0my_valid\u001b[0m\u001b[1;33m,\u001b[0m \u001b[0mc_valid\u001b[0m \u001b[1;33m=\u001b[0m \u001b[0mdf_features\u001b[0m\u001b[1;33m.\u001b[0m\u001b[0mloc\u001b[0m\u001b[1;33m[\u001b[0m\u001b[0mindices_valid\u001b[0m\u001b[1;33m]\u001b[0m\u001b[1;33m,\u001b[0m \u001b[0mw\u001b[0m\u001b[1;33m.\u001b[0m\u001b[0mloc\u001b[0m\u001b[1;33m[\u001b[0m\u001b[0mindices_valid\u001b[0m\u001b[1;33m]\u001b[0m\u001b[1;33m,\u001b[0m \u001b[0my\u001b[0m\u001b[1;33m.\u001b[0m\u001b[0mloc\u001b[0m\u001b[1;33m[\u001b[0m\u001b[0mindices_valid\u001b[0m\u001b[1;33m]\u001b[0m\u001b[1;33m,\u001b[0m \u001b[0mc\u001b[0m\u001b[1;33m.\u001b[0m\u001b[0mloc\u001b[0m\u001b[1;33m[\u001b[0m\u001b[0mindices_valid\u001b[0m\u001b[1;33m]\u001b[0m\u001b[1;33m\u001b[0m\u001b[1;33m\u001b[0m\u001b[0m\n",
      "\u001b[1;31mNameError\u001b[0m: name 'x5_preprocessing' is not defined"
     ]
    }
   ],
   "source": [
    "df_features, w, y, c = x5_preprocessing(df_clients, df_train)\n",
    "from sklearn.model_selection import train_test_split\n",
    "indices_learn, indices_valid = train_test_split(df_train.index, test_size=0.3,random_state=0)\n",
    "X_train, w_train, y_train, c_train = df_features.loc[indices_learn], w.loc[indices_learn], y.loc[indices_learn], c.loc[indices_learn]\n",
    "X_valid, w_valid, y_valid, c_valid = df_features.loc[indices_valid], w.loc[indices_valid], y.loc[indices_valid], c.loc[indices_valid]"
   ]
  },
  {
   "cell_type": "markdown",
   "metadata": {
    "id": "s9xuK63ZgneW"
   },
   "source": [
    "### Perform Grid Search"
   ]
  },
  {
   "cell_type": "code",
   "execution_count": null,
   "metadata": {
    "colab": {
     "base_uri": "https://localhost:8080/"
    },
    "id": "XFqbUmHTgmJy",
    "outputId": "28f33fcd-f3f5-43b1-9aff-0e41236f948c"
   },
   "outputs": [
    {
     "data": {
      "text/plain": [
       "(RandomForestClassifier(max_depth=11, n_jobs=-1, random_state=0),\n",
       " [0.01937923814729761, 0.00903886439976096, 0.016576023303409106])"
      ]
     },
     "execution_count": 121,
     "metadata": {
      "tags": []
     },
     "output_type": "execute_result"
    }
   ],
   "source": [
    "grid_search_one_model(Slearner)"
   ]
  },
  {
   "cell_type": "code",
   "execution_count": null,
   "metadata": {
    "colab": {
     "base_uri": "https://localhost:8080/"
    },
    "id": "CCrOgExkUDnt",
    "outputId": "4680fb31-1a93-480a-d240-e9f573d95600"
   },
   "outputs": [
    {
     "data": {
      "text/plain": [
       "(XGBClassifier(base_score=0.5, booster='gbtree', colsample_bylevel=1,\n",
       "               colsample_bynode=1, colsample_bytree=1, gamma=0, gpu_id=-1,\n",
       "               importance_type='gain', interaction_constraints='',\n",
       "               learning_rate=0.300000012, max_delta_step=0, max_depth=5,\n",
       "               min_child_weight=1, missing=nan, monotone_constraints='()',\n",
       "               n_estimators=100, n_jobs=-1, num_parallel_tree=1, random_state=1,\n",
       "               reg_alpha=0, reg_lambda=1, scale_pos_weight=1, subsample=1,\n",
       "               tree_method='exact', validate_parameters=1, verbosity=None),\n",
       " RandomForestClassifier(max_depth=11, n_jobs=-1, random_state=0),\n",
       " [0.020300382835492712, 0.016402485193383883, 0.014233310491322787])"
      ]
     },
     "execution_count": 132,
     "metadata": {
      "tags": []
     },
     "output_type": "execute_result"
    }
   ],
   "source": [
    "grid_search_two_models(Tlearner)"
   ]
  },
  {
   "cell_type": "code",
   "execution_count": null,
   "metadata": {
    "colab": {
     "base_uri": "https://localhost:8080/"
    },
    "id": "wx7Og_XJmaoU",
    "outputId": "6f4d1a0d-d050-4a3b-d068-25b19c8c1a23"
   },
   "outputs": [
    {
     "data": {
      "text/plain": [
       "(XGBRegressor(base_score=None, booster=None, colsample_bylevel=None,\n",
       "              colsample_bynode=None, colsample_bytree=None, gamma=None,\n",
       "              gpu_id=None, importance_type='gain', interaction_constraints=None,\n",
       "              learning_rate=None, max_delta_step=None, max_depth=5,\n",
       "              min_child_weight=None, missing=nan, monotone_constraints=None,\n",
       "              n_estimators=100, n_jobs=-1, num_parallel_tree=None,\n",
       "              random_state=1, reg_alpha=None, reg_lambda=None,\n",
       "              scale_pos_weight=None, subsample=None, tree_method=None,\n",
       "              validate_parameters=None, verbosity=None),\n",
       " [0.010035036366138712, 0.0054023836940148605, 0.010833532572853589])"
      ]
     },
     "execution_count": 133,
     "metadata": {
      "tags": []
     },
     "output_type": "execute_result"
    }
   ],
   "source": [
    "grid_search_regressor(Xlearner)"
   ]
  },
  {
   "cell_type": "code",
   "execution_count": null,
   "metadata": {
    "id": "vNfj-QipRsLw",
    "outputId": "808c221f-ded7-44a6-9491-cec4a110a547"
   },
   "outputs": [
    {
     "data": {
      "text/plain": [
       "(RandomForestClassifier(max_depth=11, n_jobs=-1, random_state=0),\n",
       " RandomForestClassifier(max_depth=11, n_jobs=-1, random_state=0),\n",
       " [0.007262745039587083, -0.010795902694853327, 0.007312754209333113])"
      ]
     },
     "execution_count": 114,
     "metadata": {
      "tags": []
     },
     "output_type": "execute_result"
    }
   ],
   "source": [
    "grid_search_two_models(Rlearner)"
   ]
  },
  {
   "cell_type": "markdown",
   "metadata": {
    "id": "uHmjdcyqkJzu"
   },
   "source": [
    "### Now fit models with best hyperparameters"
   ]
  },
  {
   "cell_type": "code",
   "execution_count": null,
   "metadata": {
    "id": "-gQJmqEZGrg0"
   },
   "outputs": [],
   "source": [
    "model_s = RandomForestClassifier(max_depth=11, n_jobs=-1, random_state=0)\n",
    "\n",
    "model1_t = xgb.XGBClassifier(base_score=0.5, booster='gbtree', colsample_bylevel=1,\n",
    "               colsample_bynode=1, colsample_bytree=1, gamma=0,\n",
    "               learning_rate=0.1, max_delta_step=0, max_depth=5,\n",
    "               min_child_weight=1, missing=None, n_estimators=100, n_jobs=-1,\n",
    "               nthread=None, objective='binary:logistic', random_state=1,\n",
    "               reg_alpha=0, reg_lambda=1, scale_pos_weight=1, seed=None,\n",
    "               silent=None, subsample=1, verbosity=1)\n",
    "\n",
    "model2_t = RandomForestClassifier(max_depth=11, n_jobs=-1, random_state=0)\n",
    "\n",
    "model_x = xgb.XGBRegressor(base_score=None, booster=None, colsample_bylevel=None,\n",
    "              colsample_bynode=None, colsample_bytree=None, gamma=None,\n",
    "              gpu_id=None, importance_type='gain', interaction_constraints=None,\n",
    "              learning_rate=None, max_delta_step=None, max_depth=5,\n",
    "              min_child_weight=None, missing=None, monotone_constraints=None,\n",
    "              n_estimators=100, n_jobs=-1, num_parallel_tree=None,\n",
    "              random_state=1, reg_alpha=None, reg_lambda=None,\n",
    "              scale_pos_weight=None, subsample=None, tree_method=None,\n",
    "              validate_parameters=None, verbosity=None)\n",
    "\n",
    "model1_r = RandomForestClassifier(max_depth=11, n_jobs=-1, random_state=0)\n",
    "model2_r = LogisticRegression(random_state=42)\n",
    "\n",
    "lasso = linear_model.Lasso(alpha=0.9)\n",
    "\n",
    "my_slrn = Slearner(model_s)\n",
    "my_tlrn = Tlearner(model1 = model1_t, model2 = model2_t)\n",
    "my_xlrn = Xlearner(model_x)\n",
    "my_rlrn = Rlearner(learner=lasso, model_w=model1_r, model_y=model1_r, n_fold=5, method='original')"
   ]
  },
  {
   "cell_type": "code",
   "execution_count": null,
   "metadata": {
    "id": "eWlPmseQPzet"
   },
   "outputs": [],
   "source": [
    "slearner = BaseSClassifier(model_s)\n",
    "tlearner = BaseTClassifier(model1_t, model2_t)\n",
    "xlearner = BaseXLearner(learner=model_x)\n",
    "rlearner = BaseRLearner(learner=lasso, outcome_learner=model2_r,effect_learner=lasso) #this Causalml learner doesn't support RF as estimator"
   ]
  },
  {
   "cell_type": "markdown",
   "metadata": {
    "id": "LNUhBFdz3TAo"
   },
   "source": [
    "#### S learner"
   ]
  },
  {
   "cell_type": "code",
   "execution_count": null,
   "metadata": {
    "id": "AZO79oWMRsLx"
   },
   "outputs": [],
   "source": [
    "# Here we perform cross validation with another! random state for more honest estimation\n",
    "from sklearn.model_selection import KFold\n",
    "from sklift.metrics import (\n",
    "    uplift_at_k, uplift_auc_score, qini_auc_score, weighted_average_uplift\n",
    ")\n",
    "# S learner fit&predict\n",
    "kf = KFold(n_splits=3,random_state=2,shuffle=True)\n",
    "\n",
    "qini_auc_s=[]\n",
    "my_qini_auc_s=[]\n",
    "\n",
    "uplift_auc_s=[]\n",
    "my_uplift_auc_s=[]\n",
    "\n",
    "uplift_s=[]\n",
    "my_uplift_s=[]\n",
    "\n",
    "for train_index, test_index in kf.split(X_train):\n",
    "    my_slrn.fit(X_train.loc[X_train.index[train_index]], y_train[train_index], w_train[train_index])\n",
    "    predict_my_slrn = my_slrn.predict(X_valid)\n",
    "\n",
    "    slearner.fit(X = X_train.loc[X_train.index[train_index]], treatment = w_train[train_index], y = y_train[train_index])\n",
    "    s_predict = slearner.predict(X_valid)\n",
    "    s_predict = s_predict.reshape(1, -1)[0]\n",
    "\n",
    "    # Area under qini curve\n",
    "    qini_auc_s.append(qini_auc_score(y_true=y_valid, uplift=s_predict, treatment=w_valid))\n",
    "    my_qini_auc_s.append(qini_auc_score(y_true=y_valid, uplift=predict_my_slrn, treatment=w_valid))\n",
    "\n",
    "    # Area Under Uplift Curve\n",
    "    uplift_auc_s.append(uplift_auc_score(y_true=y_valid, uplift=s_predict, treatment=w_valid))\n",
    "    my_uplift_auc_s.append(uplift_auc_score(y_true=y_valid, uplift=predict_my_slrn, treatment=w_valid))\n",
    "\n",
    "    # Uplift at top 30% predictions\n",
    "    my_uplift_s.append(uplift_at_k(y_valid, uplift=predict_my_slrn, treatment=w_valid, strategy='overall', k=0.3))\n",
    "    uplift_s.append(uplift_at_k(y_valid, uplift=s_predict, treatment=w_valid, strategy='overall', k=0.3))\n"
   ]
  },
  {
   "cell_type": "code",
   "execution_count": null,
   "metadata": {
    "id": "I70HeHQ-RsLy",
    "outputId": "5bf3c6c0-9c1e-44be-9f2f-f8f648168ee9"
   },
   "outputs": [
    {
     "name": "stdout",
     "output_type": "stream",
     "text": [
      "                           Casualml S learner:                          Our S learner:\n",
      "area under Qini curve:   0.013423562352168022+-0.0012810823707113668    0.013979641020255765+-0.0009054187526136541 \n",
      "area under uplift curve: 0.020149992157984648+-0.001997679052779442     0.020974974224739453+-0.0014326345277983499\n",
      "top 30% uplift:          0.0654503017460442+-0.001195990380531132      0.06550804095463574+-0.001621950928349823\n"
     ]
    }
   ],
   "source": [
    "print(\"                           Casualml S learner:                          Our S learner:\")\n",
    "print(f\"area under Qini curve:   {np.mean(qini_auc_s)}+-{np.std(qini_auc_s)}    {np.mean(my_qini_auc_s)}+-{np.std(my_qini_auc_s)} \")\n",
    "print(f\"area under uplift curve: {np.mean(uplift_auc_s)}+-{np.std(uplift_auc_s)}     {np.mean(my_uplift_auc_s)}+-{np.std(my_uplift_auc_s)}\")\n",
    "print(f\"top 30% uplift:          {np.mean(uplift_s)}+-{np.std(uplift_s)}      {np.mean(my_uplift_s)}+-{np.std(my_uplift_s)}\")"
   ]
  },
  {
   "cell_type": "markdown",
   "metadata": {
    "id": "5k9bmuljRsLy"
   },
   "source": [
    "#### T learner"
   ]
  },
  {
   "cell_type": "code",
   "execution_count": null,
   "metadata": {
    "id": "92RIHTEARsLy"
   },
   "outputs": [],
   "source": [
    "qini_auc_t=[]\n",
    "my_qini_auc_t=[]\n",
    "\n",
    "uplift_auc_t=[]\n",
    "my_uplift_auc_t=[]\n",
    "\n",
    "uplift_t=[]\n",
    "my_uplift_t=[]\n",
    "\n",
    "for train_index, test_index in kf.split(X_train):\n",
    "\n",
    "    my_tlrn.fit(X_train.loc[X_train.index[train_index]], y_train[train_index], w_train[train_index])\n",
    "    predict_my_tlrn = my_tlrn.predict(X_valid)\n",
    "\n",
    "    tlearner.fit(X = X_train.loc[X_train.index[train_index]], treatment = w_train[train_index], y = y_train[train_index])\n",
    "    t_predict = tlearner.predict(X_valid.values)\n",
    "    t_predict = t_predict.reshape(1, -1)[0]\n",
    "\n",
    "    # Area under qini curve\n",
    "    qini_auc_t.append(qini_auc_score(y_true=y_valid, uplift=t_predict, treatment=w_valid))\n",
    "    my_qini_auc_t.append(qini_auc_score(y_true=y_valid, uplift=predict_my_tlrn, treatment=w_valid))\n",
    "\n",
    "    # Area Under Uplift Curve\n",
    "    uplift_auc_t.append(uplift_auc_score(y_true=y_valid, uplift=t_predict, treatment=w_valid))\n",
    "    my_uplift_auc_t.append(uplift_auc_score(y_true=y_valid, uplift=predict_my_tlrn, treatment=w_valid))\n",
    "\n",
    "    # Uplift at top 30% predictions\n",
    "    my_uplift_t.append(uplift_at_k(y_valid, uplift=predict_my_tlrn, treatment=w_valid, strategy='overall', k=0.3))\n",
    "    uplift_t.append(uplift_at_k(y_valid, uplift=t_predict, treatment=w_valid, strategy='overall', k=0.3))"
   ]
  },
  {
   "cell_type": "code",
   "execution_count": null,
   "metadata": {
    "id": "xnlvjjA_RsLy",
    "outputId": "59ceaa95-5297-4c64-f348-6323aeaa4484"
   },
   "outputs": [
    {
     "name": "stdout",
     "output_type": "stream",
     "text": [
      "                           Casualml T learner:                          Our T learner:\n",
      "area under Qini curve:   0.014886445666733188+-0.0026751523513384337    0.014886445492025066+-0.0026751524833133456 \n",
      "area under uplift curve: 0.021713787968941727+-0.004173225383498756    0.02171378780509511+-0.004173225511643082\n",
      "top 30% uplift:          0.06690862363803647+-0.0054149460266046615    0.06690862363803647+-0.0054149460266046615\n"
     ]
    }
   ],
   "source": [
    "print(\"                           Casualml T learner:                          Our T learner:\")\n",
    "print(f\"area under Qini curve:   {np.mean(qini_auc_t)}+-{np.std(qini_auc_t)}    {np.mean(my_qini_auc_t)}+-{np.std(my_qini_auc_t)} \")\n",
    "print(f\"area under uplift curve: {np.mean(uplift_auc_t)}+-{np.std(uplift_auc_t)}    {np.mean(my_uplift_auc_t)}+-{np.std(my_uplift_auc_t)}\")\n",
    "print(f\"top 30% uplift:          {np.mean(uplift_t)}+-{np.std(uplift_t)}    {np.mean(my_uplift_t)}+-{np.std(my_uplift_t)}\")"
   ]
  },
  {
   "cell_type": "markdown",
   "metadata": {
    "id": "cl0I31WjRsLy"
   },
   "source": [
    "#### X learner"
   ]
  },
  {
   "cell_type": "code",
   "execution_count": null,
   "metadata": {
    "id": "ejqXTYtKRsLz"
   },
   "outputs": [],
   "source": [
    "qini_auc_x=[]\n",
    "my_qini_auc_x=[]\n",
    "\n",
    "uplift_auc_x=[]\n",
    "my_uplift_auc_x=[]\n",
    "\n",
    "uplift_x=[]\n",
    "my_uplift_x=[]\n",
    "\n",
    "for train_index, test_index in kf.split(X_train):\n",
    "\n",
    "    my_xlrn.fit(X_train.loc[X_train.index[train_index]], w_train[train_index], y_train[train_index])\n",
    "    predict_my_xlrn = my_xlrn.predict(X_valid)\n",
    "\n",
    "    xlearner.fit(X = X_train.loc[X_train.index[train_index]], treatment = w_train[train_index], y = y_train[train_index])\n",
    "    x_predict = xlearner.predict(X_valid)\n",
    "    x_predict = x_predict.reshape(1, -1)[0]\n",
    "\n",
    "    # Area under qini curve\n",
    "    qini_auc_x.append(qini_auc_score(y_true=y_valid, uplift=x_predict, treatment=w_valid))\n",
    "    my_qini_auc_x.append(qini_auc_score(y_true=y_valid, uplift=predict_my_xlrn, treatment=w_valid))\n",
    "\n",
    "    # Area Under Uplift Curve\n",
    "    uplift_auc_x.append(uplift_auc_score(y_true=y_valid, uplift=x_predict, treatment=w_valid))\n",
    "    my_uplift_auc_x.append(uplift_auc_score(y_true=y_valid, uplift=predict_my_xlrn, treatment=w_valid))\n",
    "\n",
    "    # Uplift at top 30% predictions\n",
    "    my_uplift_x.append(uplift_at_k(y_valid, uplift=predict_my_xlrn, treatment=w_valid, strategy='overall', k=0.3))\n",
    "    uplift_x.append(uplift_at_k(y_valid, uplift=x_predict, treatment=w_valid, strategy='overall', k=0.3))"
   ]
  },
  {
   "cell_type": "code",
   "execution_count": null,
   "metadata": {
    "id": "x0DXkryARsLz",
    "outputId": "6214a007-81a1-4cc7-a066-05b9c282c41b"
   },
   "outputs": [
    {
     "name": "stdout",
     "output_type": "stream",
     "text": [
      "                           Casualml X learner:                          Our X learner:\n",
      "area under Qini curve:   0.0077859935103787+-0.0011775964070769036    0.005246069644557742+-0.0007695456587054018 \n",
      "area under uplift curve: 0.011984911482091881+-0.0018131100592031174    0.00821668581068855+-0.0011634647507143753\n",
      "top 30% uplift:          0.05370334239476249+-0.0008931976262999416    0.04893771276832448+-0.0027734294848335258\n"
     ]
    }
   ],
   "source": [
    "print(\"                           Casualml X learner:                          Our X learner:\")\n",
    "print(f\"area under Qini curve:   {np.mean(qini_auc_x)}+-{np.std(qini_auc_x)}    {np.mean(my_qini_auc_x)}+-{np.std(my_qini_auc_x)} \")\n",
    "print(f\"area under uplift curve: {np.mean(uplift_auc_x)}+-{np.std(uplift_auc_x)}    {np.mean(my_uplift_auc_x)}+-{np.std(my_uplift_auc_x)}\")\n",
    "print(f\"top 30% uplift:          {np.mean(uplift_x)}+-{np.std(uplift_x)}    {np.mean(my_uplift_x)}+-{np.std(my_uplift_x)}\")"
   ]
  },
  {
   "cell_type": "code",
   "execution_count": null,
   "metadata": {
    "id": "DlCV1TIvONep"
   },
   "outputs": [],
   "source": [
    "qini_auc_x=[]\n",
    "my_qini_auc_x=[]\n",
    "\n",
    "uplift_auc_x=[]\n",
    "my_uplift_auc_x=[]\n",
    "\n",
    "uplift_x=[]\n",
    "my_uplift_x=[]\n",
    "\n",
    "for train_index, test_index in kf.split(X_train):\n",
    "\n",
    "    my_xlrn.fit(X_train.loc[X_train.index[train_index]], w_train[train_index], y_train[train_index])\n",
    "    predict_my_xlrn = my_xlrn.predict(X_valid)\n",
    "\n",
    "    xlearner.fit(X = X_train.loc[X_train.index[train_index]], treatment = w_train[train_index], y = y_train[train_index])\n",
    "    x_predict = xlearner.predict(X_valid)\n",
    "    x_predict = x_predict.reshape(1, -1)[0]\n",
    "\n",
    "    # Area under qini curve\n",
    "    qini_auc_x.append(qini_auc_score(y_true=y_valid, uplift=x_predict, treatment=w_valid))\n",
    "    my_qini_auc_x.append(qini_auc_score(y_true=y_valid, uplift=predict_my_xlrn, treatment=w_valid))\n",
    "\n",
    "    # Area Under Uplift Curve\n",
    "    uplift_auc_x.append(uplift_auc_score(y_true=y_valid, uplift=x_predict, treatment=w_valid))\n",
    "    my_uplift_auc_x.append(uplift_auc_score(y_true=y_valid, uplift=predict_my_xlrn, treatment=w_valid))\n",
    "\n",
    "    # Uplift at top 30% predictions\n",
    "    my_uplift_x.append(uplift_at_k(y_valid, uplift=predict_my_xlrn, treatment=w_valid, strategy='overall', k=0.3))\n",
    "    uplift_x.append(uplift_at_k(y_valid, uplift=x_predict, treatment=w_valid, strategy='overall', k=0.3))"
   ]
  },
  {
   "cell_type": "code",
   "execution_count": null,
   "metadata": {
    "colab": {
     "base_uri": "https://localhost:8080/"
    },
    "id": "WWO2hvzot0xf",
    "outputId": "0a2eaf80-cf78-484c-d1d4-80e3bb5692ca"
   },
   "outputs": [
    {
     "name": "stdout",
     "output_type": "stream",
     "text": [
      "                           Casualml X learner:                          Our X learner:\n",
      "area under Qini curve:   0.010087220075061977+-0.0021204809357584474    0.006454550369415116+-0.002834518342546574 \n",
      "area under uplift curve: 0.014942761297395158+-0.002935148757381129    0.009711943706613943+-0.004187627417383485\n",
      "top 30% uplift:          0.051229802677614455+-0.008018466880979612    0.04864629917024732+-0.0036436310170517637\n"
     ]
    }
   ],
   "source": [
    "print(\"                           Casualml X learner:                          Our X learner:\")\n",
    "print(f\"area under Qini curve:   {np.mean(qini_auc_x)}+-{np.std(qini_auc_x)}    {np.mean(my_qini_auc_x)}+-{np.std(my_qini_auc_x)} \")\n",
    "print(f\"area under uplift curve: {np.mean(uplift_auc_x)}+-{np.std(uplift_auc_x)}    {np.mean(my_uplift_auc_x)}+-{np.std(my_uplift_auc_x)}\")\n",
    "print(f\"top 30% uplift:          {np.mean(uplift_x)}+-{np.std(uplift_x)}    {np.mean(my_uplift_x)}+-{np.std(my_uplift_x)}\")"
   ]
  },
  {
   "cell_type": "markdown",
   "metadata": {
    "id": "PNe721IORsLz"
   },
   "source": [
    "#### R learner"
   ]
  },
  {
   "cell_type": "code",
   "execution_count": null,
   "metadata": {
    "id": "9kufIsQxRsL0"
   },
   "outputs": [],
   "source": [
    "from sklearn.model_selection import KFold\n",
    "from sklift.metrics import (\n",
    "    uplift_at_k, uplift_auc_score, qini_auc_score, weighted_average_uplift\n",
    ")\n",
    "qini_auc_r=[]\n",
    "my_qini_auc_r=[]\n",
    "\n",
    "uplift_auc_r=[]\n",
    "my_uplift_auc_r=[]\n",
    "\n",
    "uplift_r=[]\n",
    "my_uplift_r=[]\n",
    "\n",
    "for train_index, test_index in kf.split(X_train):\n",
    "\n",
    "    my_rlrn.fit(X_train.loc[X_train.index[train_index]], y_train[train_index], w_train[train_index],c_train[train_index])\n",
    "    predict_my_rlrn = my_rlrn.predict(X_valid)\n",
    "\n",
    "    rlearner.fit(X = X_train.loc[X_train.index[train_index]], treatment = w_train[train_index].astype(int), y = y_train[train_index].astype(int))\n",
    "    r_predict = rlearner.predict(X_valid)\n",
    "    r_predict = r_predict.reshape(1, -1)[0]\n",
    "\n",
    "    # Area under qini curve\n",
    "    qini_auc_r.append(qini_auc_score(y_true=y_valid, uplift=r_predict, treatment=w_valid))\n",
    "    my_qini_auc_r.append(qini_auc_score(y_true=y_valid, uplift=predict_my_rlrn, treatment=w_valid))\n",
    "\n",
    "    # Area Under Uplift Curve\n",
    "    uplift_auc_r.append(uplift_auc_score(y_true=y_valid, uplift=r_predict, treatment=w_valid))\n",
    "    my_uplift_auc_r.append(uplift_auc_score(y_true=y_valid, uplift=predict_my_rlrn, treatment=w_valid))\n",
    "\n",
    "    # Uplift at top 30% predictions\n",
    "    my_uplift_r.append(uplift_at_k(y_valid, uplift=predict_my_rlrn, treatment=w_valid, strategy='overall', k=0.3))\n",
    "    uplift_r.append(uplift_at_k(y_valid, uplift=r_predict, treatment=w_valid, strategy='overall', k=0.3))"
   ]
  },
  {
   "cell_type": "code",
   "execution_count": null,
   "metadata": {
    "id": "cwN3orYGRsL0",
    "outputId": "b8c18837-1643-432b-b614-154621699106"
   },
   "outputs": [
    {
     "name": "stdout",
     "output_type": "stream",
     "text": [
      "                           Casualml R learner:                          Our R learner:\n",
      "area under Qini curve:   0.0007525614509349268+-0.000532141305215674    0.0011288421764023902+-0.0 \n",
      "area under uplift curve: 0.0011968623617225134+-0.0008463094921209357    0.0017952935425837701+-0.0\n",
      "top 30% uplift:          0.03975775829516307+-0.0010483008224878945    0.0404990189154677+-0.0\n"
     ]
    }
   ],
   "source": [
    "print(\"                           Casualml R learner:                          Our R learner:\")\n",
    "print(f\"area under Qini curve:   {np.mean(qini_auc_r)}+-{np.std(qini_auc_r)}    {np.mean(my_qini_auc_r)}+-{np.std(my_qini_auc_r)} \")\n",
    "print(f\"area under uplift curve: {np.mean(uplift_auc_r)}+-{np.std(uplift_auc_r)}    {np.mean(my_uplift_auc_r)}+-{np.std(my_uplift_auc_r)}\")\n",
    "print(f\"top 30% uplift:          {np.mean(uplift_r)}+-{np.std(uplift_r)}    {np.mean(my_uplift_r)}+-{np.std(my_uplift_r)}\")"
   ]
  },
  {
   "cell_type": "markdown",
   "metadata": {
    "id": "G47y_qq8kQ5_"
   },
   "source": [
    "Explore some qini and uplift curves"
   ]
  },
  {
   "cell_type": "code",
   "execution_count": null,
   "metadata": {
    "colab": {
     "base_uri": "https://localhost:8080/",
     "height": 927
    },
    "id": "fpO80_AIPze0",
    "outputId": "78ee0397-1b2d-4292-f657-20e973c2b00e"
   },
   "outputs": [
    {
     "data": {
      "text/plain": [
       "<AxesSubplot:title={'center':'Uplift curve\\nuplift_auc_score=0.0226'}, xlabel='Number targeted', ylabel='Gain: treatment - control'>"
      ]
     },
     "execution_count": 144,
     "metadata": {
      "tags": []
     },
     "output_type": "execute_result"
    },
    {
     "data": {
      "image/png": "[encoded data removed]",
      "text/plain": [
       "<Figure size 576x432 with 1 Axes>"
      ]
     },
     "metadata": {
      "needs_background": "light",
      "tags": []
     },
     "output_type": "display_data"
    },
    {
     "data": {
      "image/png": "[encoded data removed]",
      "text/plain": [
       "<Figure size 576x432 with 1 Axes>"
      ]
     },
     "metadata": {
      "needs_background": "light",
      "tags": []
     },
     "output_type": "display_data"
    }
   ],
   "source": [
    "from sklift.viz import plot_qini_curve\n",
    "from sklift.viz import plot_uplift_curve\n",
    "# S learner\n",
    "plot_qini_curve(y_true=y_valid, uplift=predict_my_slrn, treatment=w_valid, perfect=False)\n",
    "plot_uplift_curve(y_true=y_valid, uplift=predict_my_slrn, treatment=w_valid, perfect=False)"
   ]
  },
  {
   "cell_type": "code",
   "execution_count": null,
   "metadata": {
    "colab": {
     "base_uri": "https://localhost:8080/",
     "height": 927
    },
    "id": "mgCnMSx3Pze3",
    "outputId": "0b2210b8-002a-4c23-c8e3-32298ac1628c"
   },
   "outputs": [
    {
     "data": {
      "text/plain": [
       "<AxesSubplot:title={'center':'Uplift curve\\nuplift_auc_score=0.0184'}, xlabel='Number targeted', ylabel='Gain: treatment - control'>"
      ]
     },
     "execution_count": 145,
     "metadata": {
      "tags": []
     },
     "output_type": "execute_result"
    },
    {
     "data": {
      "image/png": "[encoded data removed]",
      "text/plain": [
       "<Figure size 576x432 with 1 Axes>"
      ]
     },
     "metadata": {
      "needs_background": "light",
      "tags": []
     },
     "output_type": "display_data"
    },
    {
     "data": {
      "image/png": "[encoded data removed]",
      "text/plain": [
       "<Figure size 576x432 with 1 Axes>"
      ]
     },
     "metadata": {
      "needs_background": "light",
      "tags": []
     },
     "output_type": "display_data"
    }
   ],
   "source": [
    "# T learner\n",
    "plot_qini_curve(y_true=y_valid, uplift=predict_my_tlrn, treatment=w_valid, perfect=False)\n",
    "plot_uplift_curve(y_true=y_valid, uplift=predict_my_tlrn, treatment=w_valid, perfect=False)"
   ]
  },
  {
   "cell_type": "code",
   "execution_count": null,
   "metadata": {
    "colab": {
     "base_uri": "https://localhost:8080/",
     "height": 927
    },
    "id": "tSp6Cfi5Pze3",
    "outputId": "cc7b10ca-4f1c-4454-ca66-e530732ffba9"
   },
   "outputs": [
    {
     "data": {
      "text/plain": [
       "<AxesSubplot:title={'center':'Uplift curve\\nuplift_auc_score=0.0018'}, xlabel='Number targeted', ylabel='Gain: treatment - control'>"
      ]
     },
     "execution_count": 146,
     "metadata": {
      "tags": []
     },
     "output_type": "execute_result"
    },
    {
     "data": {
      "image/png": "[encoded data removed]",
      "text/plain": [
       "<Figure size 576x432 with 1 Axes>"
      ]
     },
     "metadata": {
      "needs_background": "light",
      "tags": []
     },
     "output_type": "display_data"
    },
    {
     "data": {
      "image/png": "[encoded data removed]",
      "text/plain": [
       "<Figure size 576x432 with 1 Axes>"
      ]
     },
     "metadata": {
      "needs_background": "light",
      "tags": []
     },
     "output_type": "display_data"
    }
   ],
   "source": [
    "from sklift.viz import plot_qini_curve\n",
    "from sklift.viz import plot_uplift_curve\n",
    "# R learner\n",
    "plot_qini_curve(y_true=y_valid, uplift=predict_my_rlrn, treatment=w_valid, perfect=False)\n",
    "plot_uplift_curve(y_true=y_valid, uplift=predict_my_rlrn, treatment=w_valid, perfect=False)"
   ]
  },
  {
   "cell_type": "code",
   "execution_count": null,
   "metadata": {
    "id": "5MbX_KqlPze3"
   },
   "outputs": [],
   "source": []
  },
  {
   "cell_type": "markdown",
   "metadata": {
    "id": "_EYIXIcPTRrw"
   },
   "source": [
    "# **Testing Kuusisto's synthetic dataset**"
   ]
  },
  {
   "cell_type": "code",
   "execution_count": null,
   "metadata": {
    "colab": {
     "base_uri": "https://localhost:8080/",
     "height": 73,
     "resources": {
      "http://localhost:8080/nbextensions/google.colab/files.js": {
       "data": "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",
       "headers": [
        [
         "content-type",
         "application/javascript"
        ]
       ],
       "ok": true,
       "status": 200,
       "status_text": ""
      }
     }
    },
    "id": "ul-Rfgsm0H42",
    "outputId": "778c4331-6b03-4e41-f38c-34dbdfa07281"
   },
   "outputs": [
    {
     "data": {
      "text/html": [
       "\n",
       "     <input type=\"file\" id=\"files-03f11b84-adc8-41c9-9292-773abffe6e43\" name=\"files[]\" multiple disabled\n",
       "        style=\"border:none\" />\n",
       "     <output id=\"result-03f11b84-adc8-41c9-9292-773abffe6e43\">\n",
       "      Upload widget is only available when the cell has been executed in the\n",
       "      current browser session. Please rerun this cell to enable.\n",
       "      </output>\n",
       "      <script src=\"/nbextensions/google.colab/files.js\"></script> "
      ],
      "text/plain": [
       "<IPython.core.display.HTML object>"
      ]
     },
     "metadata": {
      "tags": []
     },
     "output_type": "display_data"
    },
    {
     "name": "stdout",
     "output_type": "stream",
     "text": [
      "Saving stereotypical_customer_simulation.csv to stereotypical_customer_simulation.csv\n"
     ]
    }
   ],
   "source": [
    "from google.colab import files\n",
    "uploaded = files.upload()"
   ]
  },
  {
   "cell_type": "code",
   "execution_count": null,
   "metadata": {
    "id": "FkNE0XrpZe9T"
   },
   "outputs": [],
   "source": [
    "df = pd.read_csv('stereotypical_customer_simulation.csv',index_col='customer_id')\n",
    "X, y, w, c  = kuusisto_preprocessing(df)\n",
    "from sklearn.model_selection import train_test_split\n",
    "indices_learn, indices_valid = train_test_split(X.index, test_size=0.3,random_state=0)\n",
    "X_train, w_train, y_train, c_train = X.loc[indices_learn], w.loc[indices_learn], y.loc[indices_learn], c.loc[indices_learn]\n",
    "X_valid, w_valid, y_valid, c_valid = X.loc[indices_valid], w.loc[indices_valid], y.loc[indices_valid], c.loc[indices_valid]"
   ]
  },
  {
   "cell_type": "markdown",
   "metadata": {
    "id": "NEwWzUHWZVjz"
   },
   "source": [
    "### Firstly, let's use grid search for estimating best hyperparameters"
   ]
  },
  {
   "cell_type": "code",
   "execution_count": null,
   "metadata": {
    "colab": {
     "base_uri": "https://localhost:8080/"
    },
    "id": "I_GyQk5MlDNi",
    "outputId": "2c070f77-dad0-48b1-9554-c046b176798c"
   },
   "outputs": [
    {
     "data": {
      "text/plain": [
       "(LogisticRegression(n_jobs=-1, random_state=42),\n",
       " [0.005279602349535454, 0.05447403241619288, -0.017337436098555047])"
      ]
     },
     "execution_count": 50,
     "metadata": {
      "tags": []
     },
     "output_type": "execute_result"
    }
   ],
   "source": [
    "grid_search_one_model(Slearner)"
   ]
  },
  {
   "cell_type": "code",
   "execution_count": null,
   "metadata": {
    "colab": {
     "base_uri": "https://localhost:8080/"
    },
    "id": "geg-BF7BBKo7",
    "outputId": "82204fe9-ca1c-473c-b817-c6082ae8052b"
   },
   "outputs": [
    {
     "data": {
      "text/plain": [
       "(RandomForestClassifier(max_depth=11, n_jobs=-1, random_state=0),\n",
       " XGBClassifier(base_score=0.5, booster='gbtree', colsample_bylevel=1,\n",
       "               colsample_bynode=1, colsample_bytree=1, gamma=0, gpu_id=-1,\n",
       "               importance_type='gain', interaction_constraints='',\n",
       "               learning_rate=0.300000012, max_delta_step=0, max_depth=5,\n",
       "               min_child_weight=1, missing=nan, monotone_constraints='()',\n",
       "               n_estimators=100, n_jobs=-1, num_parallel_tree=1, random_state=1,\n",
       "               reg_alpha=0, reg_lambda=1, scale_pos_weight=1, subsample=1,\n",
       "               tree_method='exact', validate_parameters=1, verbosity=None),\n",
       " [0.014837992381087774, 0.0093330166835336, 0.03219588327307349])"
      ]
     },
     "execution_count": 51,
     "metadata": {
      "tags": []
     },
     "output_type": "execute_result"
    }
   ],
   "source": [
    "grid_search_two_models(Tlearner)"
   ]
  },
  {
   "cell_type": "code",
   "execution_count": null,
   "metadata": {
    "colab": {
     "base_uri": "https://localhost:8080/",
     "height": 315
    },
    "id": "xM5lJtK0EhrF",
    "outputId": "2edefd2f-9382-41b6-d744-8ddb7c11fc19"
   },
   "outputs": [
    {
     "data": {
      "text/plain": [
       "(XGBRegressor(base_score=None, booster=None, colsample_bylevel=None,\n",
       "              colsample_bynode=None, colsample_bytree=None, gamma=None,\n",
       "              gpu_id=None, importance_type='gain', interaction_constraints=None,\n",
       "              learning_rate=None, max_delta_step=None, max_depth=5,\n",
       "              min_child_weight=None, missing=nan, monotone_constraints=None,\n",
       "              n_estimators=100, n_jobs=-1, num_parallel_tree=None,\n",
       "              random_state=1, reg_alpha=None, reg_lambda=None,\n",
       "              scale_pos_weight=None, subsample=None, tree_method=None,\n",
       "              validate_parameters=None, verbosity=None),\n",
       " [0.024924444012141313, -0.0008312311260743814, 0.034018326853774636])"
      ]
     },
     "execution_count": 52,
     "metadata": {
      "tags": []
     },
     "output_type": "execute_result"
    }
   ],
   "source": [
    "grid_search_regressor(Xlearner)"
   ]
  },
  {
   "cell_type": "code",
   "execution_count": null,
   "metadata": {
    "id": "Qq2umfOlRsL2",
    "outputId": "e983b24b-b2ee-497c-a12f-0726c49f8dea"
   },
   "outputs": [
    {
     "data": {
      "text/plain": [
       "(0, 0, 0)"
      ]
     },
     "execution_count": 116,
     "metadata": {
      "tags": []
     },
     "output_type": "execute_result"
    }
   ],
   "source": [
    "grid_search_two_models(Rlearner)"
   ]
  },
  {
   "cell_type": "markdown",
   "metadata": {
    "id": "heN4VqZ2RsL2"
   },
   "source": [
    "We can see, that in this dataset Rlearner performs negative qini auc score, i.e. it's not effective. But to compare it with causalml one we can use previous grid search estimations"
   ]
  },
  {
   "cell_type": "markdown",
   "metadata": {
    "id": "4nhOpJz-RsL2"
   },
   "source": [
    "### Now fit models with best hyperparameters"
   ]
  },
  {
   "cell_type": "code",
   "execution_count": null,
   "metadata": {
    "id": "8HLP8QvRTXEY"
   },
   "outputs": [],
   "source": [
    "model_s = LogisticRegression(n_jobs=-1, random_state=42)\n",
    "\n",
    "model1_t = RandomForestClassifier(max_depth=11, n_jobs=-1, random_state=0)\n",
    "\n",
    "model2_t = xgb.XGBClassifier(base_score=0.5, booster='gbtree', colsample_bylevel=1,\n",
    "               colsample_bynode=1, colsample_bytree=1, gamma=0, gpu_id=-1,\n",
    "               importance_type='gain', interaction_constraints='',\n",
    "               learning_rate=0.300000012, max_delta_step=0, max_depth=5,\n",
    "               min_child_weight=1, missing=None, monotone_constraints='()',\n",
    "               n_estimators=100, n_jobs=-1, num_parallel_tree=1, random_state=1,\n",
    "               reg_alpha=0, reg_lambda=1, scale_pos_weight=1, subsample=1,\n",
    "               tree_method='exact', validate_parameters=1, verbosity=None)\n",
    "\n",
    "model_x = xgb.XGBRegressor(base_score=None, booster=None, colsample_bylevel=None,\n",
    "              colsample_bynode=None, colsample_bytree=None, gamma=None,\n",
    "              gpu_id=None, importance_type='gain', interaction_constraints=None,\n",
    "              learning_rate=None, max_delta_step=None, max_depth=5,\n",
    "              min_child_weight=None, missing=None, monotone_constraints=None,\n",
    "              n_estimators=100, n_jobs=-1, num_parallel_tree=None,\n",
    "              random_state=1, reg_alpha=None, reg_lambda=None,\n",
    "              scale_pos_weight=None, subsample=None, tree_method=None,\n",
    "              validate_parameters=None, verbosity=None)\n",
    "\n",
    "model1_r = RandomForestClassifier(max_depth=11, n_jobs=-1, random_state=0)\n",
    "model2_r = LogisticRegression(random_state=42)\n",
    "\n",
    "lasso = linear_model.Lasso(alpha=0.9)\n",
    "\n",
    "my_slrn = Slearner(model_s)\n",
    "my_tlrn = Tlearner(model1 = model1_t, model2 = model2_t)\n",
    "my_xlrn = Xlearner(model_x)\n",
    "my_rlrn = Rlearner(learner=lasso, model_w=model1_r, model_y=model1_r, n_fold=5, method='original')"
   ]
  },
  {
   "cell_type": "code",
   "execution_count": null,
   "metadata": {
    "id": "YXtGDbESyI__"
   },
   "outputs": [],
   "source": [
    "slearner = BaseSClassifier(model_s)\n",
    "tlearner = BaseTClassifier(model1_t, model2_t)\n",
    "xlearner = BaseXLearner(learner=model_x)\n",
    "rlearner = BaseRLearner(learner=lasso, outcome_learner=model2_r,effect_learner=lasso)"
   ]
  },
  {
   "cell_type": "markdown",
   "metadata": {
    "id": "XsWpHB2dRsL3"
   },
   "source": [
    "#### S learner"
   ]
  },
  {
   "cell_type": "code",
   "execution_count": null,
   "metadata": {
    "id": "bekiWe7eRsL3"
   },
   "outputs": [],
   "source": [
    "# Here we perform cross validation with another! random state for more honest estimation\n",
    "from sklearn.model_selection import KFold\n",
    "from sklift.metrics import (\n",
    "    uplift_at_k, uplift_auc_score, qini_auc_score, weighted_average_uplift\n",
    ")\n",
    "# S learner fit&predict\n",
    "kf = KFold(n_splits=3,random_state=2,shuffle=True)\n",
    "\n",
    "qini_auc_s=[]\n",
    "my_qini_auc_s=[]\n",
    "\n",
    "uplift_auc_s=[]\n",
    "my_uplift_auc_s=[]\n",
    "\n",
    "uplift_s=[]\n",
    "my_uplift_s=[]\n",
    "\n",
    "for train_index, test_index in kf.split(X_train):\n",
    "\n",
    "    my_slrn.fit(X_train.loc[X_train.index[train_index]], y_train.loc[y_train.index[train_index]], w_train.loc[w_train.index[train_index]])\n",
    "    predict_my_slrn = my_slrn.predict(X_valid)\n",
    "\n",
    "    slearner.fit(X = X_train.loc[X_train.index[train_index]], treatment = w_train.loc[w_train.index[train_index]], y = y_train.loc[y_train.index[train_index]])\n",
    "    s_predict = slearner.predict(X_valid)\n",
    "    s_predict = s_predict.reshape(1, -1)[0]\n",
    "\n",
    "    # Area under qini curve\n",
    "    qini_auc_s.append(qini_auc_score(y_true=y_valid, uplift=s_predict, treatment=w_valid))\n",
    "    my_qini_auc_s.append(qini_auc_score(y_true=y_valid, uplift=predict_my_slrn, treatment=w_valid))\n",
    "\n",
    "    # Area Under Uplift Curve\n",
    "    uplift_auc_s.append(uplift_auc_score(y_true=y_valid, uplift=s_predict, treatment=w_valid))\n",
    "    my_uplift_auc_s.append(uplift_auc_score(y_true=y_valid, uplift=predict_my_slrn, treatment=w_valid))\n",
    "\n",
    "    # Uplift at top 30% predictions\n",
    "    my_uplift_s.append(uplift_at_k(y_valid, uplift=predict_my_slrn, treatment=w_valid, strategy='overall', k=0.3))\n",
    "    uplift_s.append(uplift_at_k(y_valid, uplift=s_predict, treatment=w_valid, strategy='overall', k=0.3))"
   ]
  },
  {
   "cell_type": "code",
   "execution_count": null,
   "metadata": {
    "id": "zvyirZvCRsL3",
    "outputId": "6376893c-6ac4-4fbd-83c1-3476f18846c3"
   },
   "outputs": [
    {
     "name": "stdout",
     "output_type": "stream",
     "text": [
      "                           Casualml S learner:                          Our S learner:\n",
      "area under Qini curve:   -0.002033129938737346+-0.006360332110567717    -0.002033129938737346+-0.006360332110567717 \n",
      "area under uplift curve: -0.0027110617573155734+-0.00835890665454927     -0.0027110617573155734+-0.00835890665454927\n",
      "top 30% uplift:          0.005229932671511302+-0.019024446536499876      0.005229932671511302+-0.019024446536499876\n"
     ]
    }
   ],
   "source": [
    "print(\"                           Casualml S learner:                          Our S learner:\")\n",
    "print(f\"area under Qini curve:   {np.mean(qini_auc_s)}+-{np.std(qini_auc_s)}    {np.mean(my_qini_auc_s)}+-{np.std(my_qini_auc_s)} \")\n",
    "print(f\"area under uplift curve: {np.mean(uplift_auc_s)}+-{np.std(uplift_auc_s)}     {np.mean(my_uplift_auc_s)}+-{np.std(my_uplift_auc_s)}\")\n",
    "print(f\"top 30% uplift:          {np.mean(uplift_s)}+-{np.std(uplift_s)}      {np.mean(my_uplift_s)}+-{np.std(my_uplift_s)}\")"
   ]
  },
  {
   "cell_type": "markdown",
   "metadata": {
    "id": "f7OlJqjgRsL3"
   },
   "source": [
    "#### T learner"
   ]
  },
  {
   "cell_type": "code",
   "execution_count": null,
   "metadata": {
    "id": "zDpJgo2PRsL3"
   },
   "outputs": [],
   "source": [
    "qini_auc_t=[]\n",
    "my_qini_auc_t=[]\n",
    "\n",
    "uplift_auc_t=[]\n",
    "my_uplift_auc_t=[]\n",
    "\n",
    "uplift_t=[]\n",
    "my_uplift_t=[]\n",
    "\n",
    "for train_index, test_index in kf.split(X_train):\n",
    "\n",
    "    my_tlrn.fit(X_train.loc[X_train.index[train_index]], y_train.loc[y_train.index[train_index]],w_train.loc[w_train.index[train_index]])\n",
    "    predict_my_tlrn = my_tlrn.predict(X_valid)\n",
    "\n",
    "    tlearner.fit(X = X_train.loc[X_train.index[train_index]], treatment = w_train.loc[w_train.index[train_index]], y = y_train.loc[y_train.index[train_index]])\n",
    "    t_predict = tlearner.predict(X_valid.values)\n",
    "    t_predict = t_predict.reshape(1, -1)[0]\n",
    "\n",
    "    # Area under qini curve\n",
    "    qini_auc_t.append(qini_auc_score(y_true=y_valid, uplift=t_predict, treatment=w_valid))\n",
    "    my_qini_auc_t.append(qini_auc_score(y_true=y_valid, uplift=predict_my_tlrn, treatment=w_valid))\n",
    "\n",
    "    # Area Under Uplift Curve\n",
    "    uplift_auc_t.append(uplift_auc_score(y_true=y_valid, uplift=t_predict, treatment=w_valid))\n",
    "    my_uplift_auc_t.append(uplift_auc_score(y_true=y_valid, uplift=predict_my_tlrn, treatment=w_valid))\n",
    "\n",
    "    # Uplift at top 30% predictions\n",
    "    my_uplift_t.append(uplift_at_k(y_valid, uplift=predict_my_tlrn, treatment=w_valid, strategy='overall', k=0.3))\n",
    "    uplift_t.append(uplift_at_k(y_valid, uplift=t_predict, treatment=w_valid, strategy='overall', k=0.3))"
   ]
  },
  {
   "cell_type": "code",
   "execution_count": null,
   "metadata": {
    "colab": {
     "base_uri": "https://localhost:8080/"
    },
    "id": "DayG6HN15Ndg",
    "outputId": "030282b7-d631-4fa9-b9e7-ee02d9b2522b"
   },
   "outputs": [
    {
     "name": "stdout",
     "output_type": "stream",
     "text": [
      "                           Casualml T learner:                          Our T learner:\n",
      "area under Qini curve:   -0.012259259005468181+-0.01093452899723124    -0.012259259005468181+-0.01093452899723124 \n",
      "area under uplift curve: -0.01665775458338135+-0.014661468648812794    -0.01665775458338135+-0.014661468648812794\n",
      "top 30% uplift:          0.009410601555479644+-0.006556095217945135    0.009410601555479644+-0.006556095217945135\n"
     ]
    }
   ],
   "source": [
    "print(\"                           Casualml T learner:                          Our T learner:\")\n",
    "print(f\"area under Qini curve:   {np.mean(qini_auc_t)}+-{np.std(qini_auc_t)}    {np.mean(my_qini_auc_t)}+-{np.std(my_qini_auc_t)} \")\n",
    "print(f\"area under uplift curve: {np.mean(uplift_auc_t)}+-{np.std(uplift_auc_t)}    {np.mean(my_uplift_auc_t)}+-{np.std(my_uplift_auc_t)}\")\n",
    "print(f\"top 30% uplift:          {np.mean(uplift_t)}+-{np.std(uplift_t)}    {np.mean(my_uplift_t)}+-{np.std(my_uplift_t)}\")"
   ]
  },
  {
   "cell_type": "markdown",
   "metadata": {
    "id": "akuw_yzORsL4"
   },
   "source": [
    "#### X learner"
   ]
  },
  {
   "cell_type": "code",
   "execution_count": null,
   "metadata": {
    "id": "b8mqpX4i5NaL",
    "outputId": "208e4602-3e36-483d-c764-f0de1a85e2f8"
   },
   "outputs": [
    {
     "name": "stderr",
     "output_type": "stream",
     "text": [
      "The max_iter was reached which means the coef_ did not converge\n",
      "The max_iter was reached which means the coef_ did not converge\n",
      "The max_iter was reached which means the coef_ did not converge\n",
      "The max_iter was reached which means the coef_ did not converge\n",
      "The max_iter was reached which means the coef_ did not converge\n",
      "The max_iter was reached which means the coef_ did not converge\n",
      "The max_iter was reached which means the coef_ did not converge\n",
      "The max_iter was reached which means the coef_ did not converge\n",
      "The max_iter was reached which means the coef_ did not converge\n",
      "The max_iter was reached which means the coef_ did not converge\n",
      "The max_iter was reached which means the coef_ did not converge\n",
      "The max_iter was reached which means the coef_ did not converge\n"
     ]
    }
   ],
   "source": [
    "qini_auc_x=[]\n",
    "my_qini_auc_x=[]\n",
    "\n",
    "uplift_auc_x=[]\n",
    "my_uplift_auc_x=[]\n",
    "\n",
    "uplift_x=[]\n",
    "my_uplift_x=[]\n",
    "\n",
    "for train_index, test_index in kf.split(X_train):\n",
    "\n",
    "    my_xlrn.fit(X_train.loc[X_train.index[train_index]], y_train.loc[y_train.index[train_index]],w_train.loc[w_train.index[train_index]])\n",
    "    predict_my_xlrn = my_xlrn.predict(X_valid)\n",
    "\n",
    "    xlearner.fit(X = X_train.loc[X_train.index[train_index]], treatment = w_train.loc[w_train.index[train_index]], y = y_train.loc[y_train.index[train_index]])\n",
    "    x_predict = xlearner.predict(X_valid.values)\n",
    "    x_predict = x_predict.reshape(1, -1)[0]\n",
    "\n",
    "    # Area under qini curve\n",
    "    #qini_auc_t.append(qini_auc_score(y_true=y_valid, uplift=x_predict, treatment=w_valid))\n",
    "    #my_qini_auc_t.append(qini_auc_score(y_true=y_valid, uplift=predict_my_xlrn, treatment=w_valid))\n",
    "\n",
    "    # Area Under Uplift Curve\n",
    "    uplift_auc_x.append(uplift_auc_score(y_true=y_valid, uplift=x_predict, treatment=w_valid))\n",
    "    my_uplift_auc_x.append(uplift_auc_score(y_true=y_valid, uplift=predict_my_xlrn, treatment=w_valid))\n",
    "\n",
    "    # Uplift at top 30% predictions\n",
    "    my_uplift_x.append(uplift_at_k(y_valid, uplift=predict_my_xlrn, treatment=w_valid, strategy='overall', k=0.3))\n",
    "    uplift_x.append(uplift_at_k(y_valid, uplift=x_predict, treatment=w_valid, strategy='overall', k=0.3))"
   ]
  },
  {
   "cell_type": "code",
   "execution_count": null,
   "metadata": {
    "id": "i6NRB40Q5NW5",
    "outputId": "99b82967-f9da-4032-a2ca-857a15e1a14a"
   },
   "outputs": [
    {
     "name": "stdout",
     "output_type": "stream",
     "text": [
      "                           Casualml X learner:                          Our X learner:\n",
      "area under uplift curve: -0.013322642634245768+-0.016222665506834662    0.0018682574265868465+-0.014159582417823379\n",
      "top 30% uplift:          0.009143673037643222+-0.02180549627679998    0.028604086234250186+-0.005709720825964861\n"
     ]
    }
   ],
   "source": [
    "print(\"                           Casualml X learner:                          Our X learner:\")\n",
    "#print(f\"area under Qini curve:   {np.mean(qini_auc_x)}+-{np.std(qini_auc_x)}    {np.mean(my_qini_auc_x)}+-{np.std(my_qini_auc_x)} \")\n",
    "print(f\"area under uplift curve: {np.mean(uplift_auc_x)}+-{np.std(uplift_auc_x)}    {np.mean(my_uplift_auc_x)}+-{np.std(my_uplift_auc_x)}\")\n",
    "print(f\"top 30% uplift:          {np.mean(uplift_x)}+-{np.std(uplift_x)}    {np.mean(my_uplift_x)}+-{np.std(my_uplift_x)}\")"
   ]
  },
  {
   "cell_type": "markdown",
   "metadata": {
    "id": "MjiR9EhiRsL4"
   },
   "source": [
    "#### R learner"
   ]
  },
  {
   "cell_type": "code",
   "execution_count": null,
   "metadata": {
    "id": "cIMI3WsU5NLc",
    "outputId": "10508e69-53bd-4ad0-e8d0-99fa0206499b"
   },
   "outputs": [
    {
     "name": "stderr",
     "output_type": "stream",
     "text": [
      "The max_iter was reached which means the coef_ did not converge\n",
      "The max_iter was reached which means the coef_ did not converge\n",
      "The max_iter was reached which means the coef_ did not converge\n",
      "The max_iter was reached which means the coef_ did not converge\n",
      "The max_iter was reached which means the coef_ did not converge\n",
      "The max_iter was reached which means the coef_ did not converge\n",
      "The max_iter was reached which means the coef_ did not converge\n",
      "The max_iter was reached which means the coef_ did not converge\n",
      "The max_iter was reached which means the coef_ did not converge\n",
      "The max_iter was reached which means the coef_ did not converge\n",
      "The max_iter was reached which means the coef_ did not converge\n",
      "The max_iter was reached which means the coef_ did not converge\n"
     ]
    }
   ],
   "source": [
    "from sklearn.model_selection import KFold\n",
    "from sklift.metrics import (\n",
    "    uplift_at_k, uplift_auc_score, qini_auc_score, weighted_average_uplift\n",
    ")\n",
    "qini_auc_r=[]\n",
    "my_qini_auc_r=[]\n",
    "\n",
    "uplift_auc_r=[]\n",
    "my_uplift_auc_r=[]\n",
    "\n",
    "uplift_r=[]\n",
    "my_uplift_r=[]\n",
    "\n",
    "for train_index, test_index in kf.split(X_train):\n",
    "\n",
    "    my_rlrn.fit(X_train.loc[X_train.index[train_index]], y_train.loc[y_train.index[train_index]],w_train.loc[w_train.index[train_index]],c_train.loc[c_train.index[train_index]])\n",
    "    predict_my_rlrn = my_rlrn.predict(X_valid)\n",
    "\n",
    "    rlearner.fit(X_train.loc[X_train.index[train_index]], y_train.loc[y_train.index[train_index]],w_train.loc[w_train.index[train_index]])\n",
    "    r_predict = rlearner.predict(X_valid)\n",
    "    r_predict = r_predict.reshape(1, -1)[0]\n",
    "\n",
    "    # Area under qini curve\n",
    "    qini_auc_r.append(qini_auc_score(y_true=y_valid, uplift=r_predict, treatment=w_valid))\n",
    "    my_qini_auc_r.append(qini_auc_score(y_true=y_valid, uplift=predict_my_rlrn, treatment=w_valid))\n",
    "\n",
    "    # Area Under Uplift Curve\n",
    "    uplift_auc_r.append(uplift_auc_score(y_true=y_valid, uplift=r_predict, treatment=w_valid))\n",
    "    my_uplift_auc_r.append(uplift_auc_score(y_true=y_valid, uplift=predict_my_rlrn, treatment=w_valid))\n",
    "\n",
    "    # Uplift at top 30% predictions\n",
    "    my_uplift_r.append(uplift_at_k(y_valid, uplift=predict_my_rlrn, treatment=w_valid, strategy='overall', k=0.3))\n",
    "    uplift_r.append(uplift_at_k(y_valid, uplift=r_predict, treatment=w_valid, strategy='overall', k=0.3))"
   ]
  },
  {
   "cell_type": "code",
   "execution_count": null,
   "metadata": {
    "id": "OFnc7mA2RsL5",
    "outputId": "7fa81243-788b-4249-e984-15b126f91adf"
   },
   "outputs": [
    {
     "name": "stdout",
     "output_type": "stream",
     "text": [
      "                           Casualml R learner:                          Our R learner:\n",
      "top 30% uplift:          0.012093726379440728+-0.0    0.012093726379440728+-0.0\n"
     ]
    }
   ],
   "source": [
    "print(\"                           Casualml R learner:                          Our R learner:\")\n",
    "#print(f\"area under Qini curve:   {np.mean(qini_auc_r)}+-{np.std(qini_auc_r)}    {np.mean(my_qini_auc_r)}+-{np.std(my_qini_auc_r)} \")\n",
    "#print(f\"area under uplift curve: {np.mean(uplift_auc_r)}+-{np.std(uplift_auc_r)}    {np.mean(my_uplift_auc_r)}+-{np.std(my_uplift_auc_r)}\")\n",
    "print(f\"top 30% uplift:          {np.mean(uplift_r)}+-{np.std(uplift_r)}    {np.mean(my_uplift_r)}+-{np.std(my_uplift_r)}\")"
   ]
  },
  {
   "cell_type": "markdown",
   "metadata": {
    "id": "Lt7sxHXmq-tn"
   },
   "source": [
    "Now let's plot some curves"
   ]
  },
  {
   "cell_type": "code",
   "execution_count": null,
   "metadata": {
    "id": "Sa34flelrCNU",
    "outputId": "d2f40063-834c-41c9-f7dc-433e84c0f166"
   },
   "outputs": [
    {
     "data": {
      "text/plain": [
       "<AxesSubplot:title={'center':'Uplift curve\\nuplift_auc_score=0.0031'}, xlabel='Number targeted', ylabel='Gain: treatment - control'>"
      ]
     },
     "execution_count": 74,
     "metadata": {
      "tags": []
     },
     "output_type": "execute_result"
    },
    {
     "data": {
      "image/png": "[encoded data removed]",
      "text/plain": [
       "<Figure size 576x432 with 1 Axes>"
      ]
     },
     "metadata": {
      "needs_background": "light",
      "tags": []
     },
     "output_type": "display_data"
    }
   ],
   "source": [
    "from sklift.viz import plot_qini_curve\n",
    "from sklift.viz import plot_uplift_curve\n",
    "# X learner\n",
    "plot_uplift_curve(y_true=y_valid, uplift=predict_my_xlrn, treatment=w_valid, perfect=False)"
   ]
  },
  {
   "cell_type": "code",
   "execution_count": null,
   "metadata": {
    "id": "px2BOMGQrCDT"
   },
   "outputs": [],
   "source": [
    "from sklift.viz import plot_qini_curve\n",
    "from sklift.viz import plot_uplift_curve\n",
    "# X learner\n",
    "plot_qini_curve(y_true=y_valid, uplift=predict_my_xlrn, treatment=w_valid, perfect=False)\n",
    "plot_uplift_curve(y_true=y_valid, uplift=predict_my_xlrn, treatment=w_valid, perfect=False)"
   ]
  },
  {
   "cell_type": "code",
   "execution_count": null,
   "metadata": {
    "id": "GMT03Jj2rB_0"
   },
   "outputs": [],
   "source": []
  },
  {
   "cell_type": "code",
   "execution_count": null,
   "metadata": {
    "id": "xdXEk45wrB3_"
   },
   "outputs": [],
   "source": []
  },
  {
   "cell_type": "markdown",
   "metadata": {
    "id": "eeyM4uJzqMUP"
   },
   "source": [
    "# **Testing MineThatData dataset**"
   ]
  },
  {
   "cell_type": "code",
   "execution_count": null,
   "metadata": {
    "id": "1DTY4WNGqQ7a"
   },
   "outputs": [],
   "source": [
    "X,y,w,c = mine_preproccessing()"
   ]
  },
  {
   "cell_type": "code",
   "execution_count": null,
   "metadata": {
    "id": "Yuo0pwM8qd03"
   },
   "outputs": [],
   "source": [
    "from sklearn.model_selection import train_test_split\n",
    "indices_learn, indices_valid = train_test_split(X.index, test_size=0.3,random_state=0)\n",
    "X_train, w_train, y_train, c_train = X.loc[indices_learn], w.loc[indices_learn], y.loc[indices_learn], c.loc[indices_learn]\n",
    "X_valid, w_valid, y_valid, c_valid = X.loc[indices_valid], w.loc[indices_valid], y.loc[indices_valid], c.loc[indices_valid]"
   ]
  },
  {
   "cell_type": "markdown",
   "metadata": {
    "id": "snYR2knvqlNz"
   },
   "source": [
    "Firstly, perform Grid Search"
   ]
  },
  {
   "cell_type": "code",
   "execution_count": null,
   "metadata": {
    "id": "VXfk1H8jqoed",
    "outputId": "08625097-c248-48b5-fd49-6eb748df765a"
   },
   "outputs": [
    {
     "data": {
      "text/plain": [
       "(XGBClassifier(base_score=0.5, booster='gbtree', colsample_bylevel=1,\n",
       "               colsample_bynode=1, colsample_bytree=1, gamma=0, gpu_id=-1,\n",
       "               importance_type='gain', interaction_constraints='',\n",
       "               learning_rate=0.300000012, max_delta_step=0, max_depth=5,\n",
       "               min_child_weight=1, missing=nan, monotone_constraints='()',\n",
       "               n_estimators=100, n_jobs=-1, num_parallel_tree=1, random_state=1,\n",
       "               reg_alpha=0, reg_lambda=1, scale_pos_weight=1, subsample=1,\n",
       "               tree_method='exact', validate_parameters=1, verbosity=None),\n",
       " [0.053470769198401595, 0.08442493872155207, 0.058485756120191655])"
      ]
     },
     "execution_count": 79,
     "metadata": {
      "tags": []
     },
     "output_type": "execute_result"
    }
   ],
   "source": [
    "grid_search_one_model(Slearner)"
   ]
  },
  {
   "cell_type": "code",
   "execution_count": null,
   "metadata": {
    "id": "AC1SAW8Cqtoq",
    "outputId": "4d1bddfc-7c3c-4a6c-a1aa-06ac201f5a9d"
   },
   "outputs": [
    {
     "data": {
      "text/plain": [
       "(XGBClassifier(base_score=0.5, booster='gbtree', colsample_bylevel=1,\n",
       "               colsample_bynode=1, colsample_bytree=1, gamma=0, gpu_id=-1,\n",
       "               importance_type='gain', interaction_constraints='',\n",
       "               learning_rate=0.300000012, max_delta_step=0, max_depth=5,\n",
       "               min_child_weight=1, missing=nan, monotone_constraints='()',\n",
       "               n_estimators=100, n_jobs=-1, num_parallel_tree=1, random_state=1,\n",
       "               reg_alpha=0, reg_lambda=1, scale_pos_weight=1, subsample=1,\n",
       "               tree_method='exact', validate_parameters=1, verbosity=None),\n",
       " RandomForestClassifier(max_depth=11, n_jobs=-1, random_state=0),\n",
       " [0.05453542966944058, 0.06723585378149473, 0.05941860678723207])"
      ]
     },
     "execution_count": 80,
     "metadata": {
      "tags": []
     },
     "output_type": "execute_result"
    }
   ],
   "source": [
    "grid_search_two_models(Tlearner)"
   ]
  },
  {
   "cell_type": "code",
   "execution_count": null,
   "metadata": {
    "id": "trdcqixWqtgT",
    "outputId": "7b39a134-0cb5-4626-ec5d-bc4f58d6493a"
   },
   "outputs": [
    {
     "data": {
      "text/plain": [
       "(RandomForestRegressor(max_depth=11, n_jobs=-1, random_state=0),\n",
       " [0.0655121394203221, 0.06163814077716754, 0.050177205597450994])"
      ]
     },
     "execution_count": 81,
     "metadata": {
      "tags": []
     },
     "output_type": "execute_result"
    }
   ],
   "source": [
    "grid_search_regressor(Xlearner)"
   ]
  },
  {
   "cell_type": "code",
   "execution_count": null,
   "metadata": {
    "id": "aIqXs6_DRsL7",
    "outputId": "0e7718c4-ba40-4040-c19a-1f5483288555"
   },
   "outputs": [
    {
     "data": {
      "text/plain": [
       "(0, 0, 0)"
      ]
     },
     "execution_count": 119,
     "metadata": {
      "tags": []
     },
     "output_type": "execute_result"
    }
   ],
   "source": [
    "grid_search_two_models(Rlearner)"
   ]
  },
  {
   "cell_type": "markdown",
   "metadata": {
    "id": "D6ISr-IbrOn6"
   },
   "source": [
    "Now fit and predict our models with best hyperparameters"
   ]
  },
  {
   "cell_type": "code",
   "execution_count": null,
   "metadata": {
    "id": "7yWshg9rRsL7"
   },
   "outputs": [],
   "source": [
    "model_s = xgb.XGBClassifier(base_score=0.5, booster='gbtree', colsample_bylevel=1,\n",
    "               colsample_bynode=1, colsample_bytree=1, gamma=0, gpu_id=-1,\n",
    "               importance_type='gain', interaction_constraints='',\n",
    "               learning_rate=0.300000012, max_delta_step=0, max_depth=5,\n",
    "               min_child_weight=1, missing=None, monotone_constraints='()',\n",
    "               n_estimators=100, n_jobs=-1, num_parallel_tree=1, random_state=1,\n",
    "               reg_alpha=0, reg_lambda=1, scale_pos_weight=1, subsample=1,\n",
    "               tree_method='exact', validate_parameters=1, verbosity=None)\n",
    "\n",
    "model1_t = xgb.XGBClassifier(base_score=0.5, booster='gbtree', colsample_bylevel=1,\n",
    "               colsample_bynode=1, colsample_bytree=1, gamma=0, gpu_id=-1,\n",
    "               importance_type='gain', interaction_constraints='',\n",
    "               learning_rate=0.300000012, max_delta_step=0, max_depth=5,\n",
    "               min_child_weight=1, missing=None, monotone_constraints='()',\n",
    "               n_estimators=100, n_jobs=-1, num_parallel_tree=1, random_state=1,\n",
    "               reg_alpha=0, reg_lambda=1, scale_pos_weight=1, subsample=1,\n",
    "               tree_method='exact', validate_parameters=1, verbosity=None)\n",
    "\n",
    "model2_t = RandomForestClassifier(max_depth=11, n_jobs=-1, random_state=0)\n",
    "\n",
    "model_x = RandomForestRegressor(max_depth=11, n_jobs=-1, random_state=0)\n",
    "\n",
    "model1_r = RandomForestClassifier(max_depth=11, n_jobs=-1, random_state=0)\n",
    "model2_r = LogisticRegression(random_state=42)\n",
    "\n",
    "lasso = linear_model.Lasso(alpha=0.9)\n",
    "\n",
    "my_slrn = Slearner(model_s)\n",
    "my_tlrn = Tlearner(model1 = model1_t, model2 = model2_t)\n",
    "my_xlrn = Xlearner(model_x)\n",
    "my_rlrn = Rlearner(learner=lasso, model_w=model1_r, model_y=model1_r, n_fold=5, method='original')"
   ]
  },
  {
   "cell_type": "code",
   "execution_count": null,
   "metadata": {
    "id": "G3k1GqJeRsL7"
   },
   "outputs": [],
   "source": [
    "slearner = BaseSClassifier(model_s)\n",
    "tlearner = BaseTClassifier(model1_t, model2_t)\n",
    "xlearner = BaseXLearner(learner=model_x)\n",
    "rlearner = BaseRLearner(learner=lasso, outcome_learner=model2_r,effect_learner=lasso)"
   ]
  },
  {
   "cell_type": "code",
   "execution_count": null,
   "metadata": {
    "id": "GNXY11pIRsL7"
   },
   "outputs": [],
   "source": [
    "# Here we perform cross validation with another! random state for more honest estimation\n",
    "from sklearn.model_selection import KFold\n",
    "from sklift.metrics import (\n",
    "    uplift_at_k, uplift_auc_score, qini_auc_score, weighted_average_uplift\n",
    ")\n",
    "# S learner fit&predict\n",
    "kf = KFold(n_splits=3,random_state=2,shuffle=True)\n",
    "\n",
    "qini_auc_s=[]\n",
    "my_qini_auc_s=[]\n",
    "\n",
    "uplift_auc_s=[]\n",
    "my_uplift_auc_s=[]\n",
    "\n",
    "uplift_s=[]\n",
    "my_uplift_s=[]\n",
    "\n",
    "for train_index, test_index in kf.split(X_train):\n",
    "\n",
    "    my_slrn.fit(X_train.loc[X_train.index[train_index]], y_train.loc[y_train.index[train_index]], w_train.loc[w_train.index[train_index]])\n",
    "    predict_my_slrn = my_slrn.predict(X_valid)\n",
    "\n",
    "    slearner.fit(X = X_train.loc[X_train.index[train_index]], treatment = w_train.loc[w_train.index[train_index]], y = y_train.loc[y_train.index[train_index]])\n",
    "    s_predict = slearner.predict(X_valid)\n",
    "    s_predict = s_predict.reshape(1, -1)[0]\n",
    "\n",
    "    # Area under qini curve\n",
    "    qini_auc_s.append(qini_auc_score(y_true=y_valid, uplift=s_predict, treatment=w_valid))\n",
    "    my_qini_auc_s.append(qini_auc_score(y_true=y_valid, uplift=predict_my_slrn, treatment=w_valid))\n",
    "\n",
    "    # Area Under Uplift Curve\n",
    "    uplift_auc_s.append(uplift_auc_score(y_true=y_valid, uplift=s_predict, treatment=w_valid))\n",
    "    my_uplift_auc_s.append(uplift_auc_score(y_true=y_valid, uplift=predict_my_slrn, treatment=w_valid))\n",
    "\n",
    "    # Uplift at top 30% predictions\n",
    "    my_uplift_s.append(uplift_at_k(y_valid, uplift=predict_my_slrn, treatment=w_valid, strategy='overall', k=0.3))\n",
    "    uplift_s.append(uplift_at_k(y_valid, uplift=s_predict, treatment=w_valid, strategy='overall', k=0.3))"
   ]
  },
  {
   "cell_type": "code",
   "execution_count": null,
   "metadata": {
    "id": "KNaK98aPRsL7",
    "outputId": "0ad485f9-a0e4-4505-b407-9084efbc06d3"
   },
   "outputs": [
    {
     "name": "stdout",
     "output_type": "stream",
     "text": [
      "                           Casualml S learner:                          Our S learner:\n",
      "area under Qini curve:   0.03177061532543405+-0.004942785707468644    0.03177061532543405+-0.004942785707468644 \n",
      "area under uplift curve: 0.014160351054217106+-0.0020282972401776777     0.014160351054217106+-0.0020282972401776777\n",
      "top 30% uplift:          0.07688636393645681+-0.005038496232177422      0.07688636393645681+-0.005038496232177422\n"
     ]
    }
   ],
   "source": [
    "print(\"                           Casualml S learner:                          Our S learner:\")\n",
    "print(f\"area under Qini curve:   {np.mean(qini_auc_s)}+-{np.std(qini_auc_s)}    {np.mean(my_qini_auc_s)}+-{np.std(my_qini_auc_s)} \")\n",
    "print(f\"area under uplift curve: {np.mean(uplift_auc_s)}+-{np.std(uplift_auc_s)}     {np.mean(my_uplift_auc_s)}+-{np.std(my_uplift_auc_s)}\")\n",
    "print(f\"top 30% uplift:          {np.mean(uplift_s)}+-{np.std(uplift_s)}      {np.mean(my_uplift_s)}+-{np.std(my_uplift_s)}\")"
   ]
  },
  {
   "cell_type": "code",
   "execution_count": null,
   "metadata": {
    "id": "0wI3VzpoRsL8"
   },
   "outputs": [],
   "source": [
    "qini_auc_t=[]\n",
    "my_qini_auc_t=[]\n",
    "\n",
    "uplift_auc_t=[]\n",
    "my_uplift_auc_t=[]\n",
    "\n",
    "uplift_t=[]\n",
    "my_uplift_t=[]\n",
    "\n",
    "for train_index, test_index in kf.split(X_train):\n",
    "\n",
    "    my_tlrn.fit(X_train.loc[X_train.index[train_index]], y_train.loc[y_train.index[train_index]],w_train.loc[w_train.index[train_index]])\n",
    "    predict_my_tlrn = my_tlrn.predict(X_valid)\n",
    "\n",
    "    tlearner.fit(X = X_train.loc[X_train.index[train_index]], treatment = w_train.loc[w_train.index[train_index]], y = y_train.loc[y_train.index[train_index]])\n",
    "    t_predict = tlearner.predict(X_valid.values)\n",
    "    t_predict = t_predict.reshape(1, -1)[0]\n",
    "\n",
    "    # Area under qini curve\n",
    "    qini_auc_t.append(qini_auc_score(y_true=y_valid, uplift=t_predict, treatment=w_valid))\n",
    "    my_qini_auc_t.append(qini_auc_score(y_true=y_valid, uplift=predict_my_tlrn, treatment=w_valid))\n",
    "\n",
    "    # Area Under Uplift Curve\n",
    "    uplift_auc_t.append(uplift_auc_score(y_true=y_valid, uplift=t_predict, treatment=w_valid))\n",
    "    my_uplift_auc_t.append(uplift_auc_score(y_true=y_valid, uplift=predict_my_tlrn, treatment=w_valid))\n",
    "\n",
    "    # Uplift at top 30% predictions\n",
    "    my_uplift_t.append(uplift_at_k(y_valid, uplift=predict_my_tlrn, treatment=w_valid, strategy='overall', k=0.3))\n",
    "    uplift_t.append(uplift_at_k(y_valid, uplift=t_predict, treatment=w_valid, strategy='overall', k=0.3))"
   ]
  },
  {
   "cell_type": "code",
   "execution_count": null,
   "metadata": {
    "id": "eRxDAAZtRsL8",
    "outputId": "cd205ffd-562d-45cd-b86d-93a236af7554"
   },
   "outputs": [
    {
     "name": "stdout",
     "output_type": "stream",
     "text": [
      "                           Casualml T learner:                          Our T learner:\n",
      "area under Qini curve:   0.015776275761180857+-0.01208013029690403    0.015776275761180857+-0.01208013029690403 \n",
      "area under uplift curve: 0.006981746605214744+-0.005543331230835297    0.006981746605214744+-0.005543331230835297\n",
      "top 30% uplift:          0.061313275070954264+-0.007853544683246016    0.061313275070954264+-0.007853544683246016\n"
     ]
    }
   ],
   "source": [
    "print(\"                           Casualml T learner:                          Our T learner:\")\n",
    "print(f\"area under Qini curve:   {np.mean(qini_auc_t)}+-{np.std(qini_auc_t)}    {np.mean(my_qini_auc_t)}+-{np.std(my_qini_auc_t)} \")\n",
    "print(f\"area under uplift curve: {np.mean(uplift_auc_t)}+-{np.std(uplift_auc_t)}    {np.mean(my_uplift_auc_t)}+-{np.std(my_uplift_auc_t)}\")\n",
    "print(f\"top 30% uplift:          {np.mean(uplift_t)}+-{np.std(uplift_t)}    {np.mean(my_uplift_t)}+-{np.std(my_uplift_t)}\")"
   ]
  },
  {
   "cell_type": "code",
   "execution_count": null,
   "metadata": {
    "id": "fA3QflEdRsL8"
   },
   "outputs": [],
   "source": [
    "qini_auc_x=[]\n",
    "my_qini_auc_x=[]\n",
    "\n",
    "uplift_auc_x=[]\n",
    "my_uplift_auc_x=[]\n",
    "\n",
    "uplift_x=[]\n",
    "my_uplift_x=[]\n",
    "\n",
    "for train_index, test_index in kf.split(X_train):\n",
    "\n",
    "    my_xlrn.fit(X_train.loc[X_train.index[train_index]], y_train.loc[y_train.index[train_index]],w_train.loc[w_train.index[train_index]])\n",
    "    predict_my_xlrn = my_xlrn.predict(X_valid)\n",
    "\n",
    "    xlearner.fit(X = X_train.loc[X_train.index[train_index]], treatment = w_train.loc[w_train.index[train_index]], y = y_train.loc[y_train.index[train_index]])\n",
    "    x_predict = xlearner.predict(X_valid.values)\n",
    "    x_predict = x_predict.reshape(1, -1)[0]\n",
    "\n",
    "    # Area under qini curve\n",
    "    qini_auc_t.append(qini_auc_score(y_true=y_valid, uplift=x_predict, treatment=w_valid))\n",
    "    my_qini_auc_t.append(qini_auc_score(y_true=y_valid, uplift=predict_my_xlrn, treatment=w_valid))\n",
    "\n",
    "    # Area Under Uplift Curve\n",
    "    uplift_auc_x.append(uplift_auc_score(y_true=y_valid, uplift=x_predict, treatment=w_valid))\n",
    "    my_uplift_auc_x.append(uplift_auc_score(y_true=y_valid, uplift=predict_my_xlrn, treatment=w_valid))\n",
    "\n",
    "    # Uplift at top 30% predictions\n",
    "    my_uplift_x.append(uplift_at_k(y_valid, uplift=predict_my_xlrn, treatment=w_valid, strategy='overall', k=0.3))\n",
    "    uplift_x.append(uplift_at_k(y_valid, uplift=x_predict, treatment=w_valid, strategy='overall', k=0.3))"
   ]
  },
  {
   "cell_type": "code",
   "execution_count": null,
   "metadata": {
    "id": "wmdA99U4RsL8",
    "outputId": "c7622663-d694-4c42-95c7-294f7b97fc70"
   },
   "outputs": [
    {
     "name": "stdout",
     "output_type": "stream",
     "text": [
      "                           Casualml X learner:                          Our X learner:\n",
      "area under uplift curve: 0.006458721956881908+-0.0059148537810276135    0.004828866921903538+-0.003564581894473771\n",
      "top 30% uplift:          0.07008839224773056+-0.008335135569478387    0.057913215191209844+-0.012005467732045347\n"
     ]
    }
   ],
   "source": [
    "print(\"                           Casualml X learner:                          Our X learner:\")\n",
    "#print(f\"area under Qini curve:   {np.mean(qini_auc_x)}+-{np.std(qini_auc_x)}    {np.mean(my_qini_auc_x)}+-{np.std(my_qini_auc_x)} \")\n",
    "print(f\"area under uplift curve: {np.mean(uplift_auc_x)}+-{np.std(uplift_auc_x)}    {np.mean(my_uplift_auc_x)}+-{np.std(my_uplift_auc_x)}\")\n",
    "print(f\"top 30% uplift:          {np.mean(uplift_x)}+-{np.std(uplift_x)}    {np.mean(my_uplift_x)}+-{np.std(my_uplift_x)}\")"
   ]
  },
  {
   "cell_type": "markdown",
   "metadata": {
    "id": "9Geh66EbRsL8"
   },
   "source": [
    "#### R learner"
   ]
  },
  {
   "cell_type": "code",
   "execution_count": null,
   "metadata": {
    "id": "ErWOBOcRRsL8"
   },
   "outputs": [],
   "source": [
    "from sklearn.model_selection import KFold\n",
    "from sklift.metrics import (\n",
    "    uplift_at_k, uplift_auc_score, qini_auc_score, weighted_average_uplift\n",
    ")\n",
    "qini_auc_r=[]\n",
    "my_qini_auc_r=[]\n",
    "\n",
    "uplift_auc_r=[]\n",
    "my_uplift_auc_r=[]\n",
    "\n",
    "uplift_r=[]\n",
    "my_uplift_r=[]\n",
    "\n",
    "for train_index, test_index in kf.split(X_train):\n",
    "\n",
    "    my_rlrn.fit(X_train.loc[X_train.index[train_index]], y_train.loc[y_train.index[train_index]],w_train.loc[w_train.index[train_index]],c_train.loc[c_train.index[train_index]])\n",
    "    predict_my_rlrn = my_rlrn.predict(X_valid)\n",
    "\n",
    "    rlearner.fit(X_train.loc[X_train.index[train_index]], y_train.loc[y_train.index[train_index]],w_train.loc[w_train.index[train_index]])\n",
    "    r_predict = rlearner.predict(X_valid)\n",
    "    r_predict = r_predict.reshape(1, -1)[0]\n",
    "\n",
    "    # Area under qini curve\n",
    "    qini_auc_r.append(qini_auc_score(y_true=y_valid, uplift=r_predict, treatment=w_valid))\n",
    "    my_qini_auc_r.append(qini_auc_score(y_true=y_valid, uplift=predict_my_rlrn, treatment=w_valid))\n",
    "\n",
    "    # Area Under Uplift Curve\n",
    "    uplift_auc_r.append(uplift_auc_score(y_true=y_valid, uplift=r_predict, treatment=w_valid))\n",
    "    my_uplift_auc_r.append(uplift_auc_score(y_true=y_valid, uplift=predict_my_rlrn, treatment=w_valid))\n",
    "\n",
    "    # Uplift at top 30% predictions\n",
    "    my_uplift_r.append(uplift_at_k(y_valid, uplift=predict_my_rlrn, treatment=w_valid, strategy='overall', k=0.3))\n",
    "    uplift_r.append(uplift_at_k(y_valid, uplift=r_predict, treatment=w_valid, strategy='overall', k=0.3))"
   ]
  },
  {
   "cell_type": "code",
   "execution_count": null,
   "metadata": {
    "id": "10nVOUQ5RsL9",
    "outputId": "50fa35bc-45bd-46ac-c9f4-0dd6491473a0"
   },
   "outputs": [
    {
     "name": "stdout",
     "output_type": "stream",
     "text": [
      "                           Casualml R learner:                          Our R learner:\n",
      "top 30% uplift:          0.039750398817166646+-0.0    0.06721231002522467+-0.0\n"
     ]
    }
   ],
   "source": [
    "print(\"                           Casualml R learner:                          Our R learner:\")\n",
    "#print(f\"area under Qini curve:   {np.mean(qini_auc_r)}+-{np.std(qini_auc_r)}    {np.mean(my_qini_auc_r)}+-{np.std(my_qini_auc_r)} \")\n",
    "#print(f\"area under uplift curve: {np.mean(uplift_auc_r)}+-{np.std(uplift_auc_r)}    {np.mean(my_uplift_auc_r)}+-{np.std(my_uplift_auc_r)}\")\n",
    "print(f\"top 30% uplift:          {np.mean(uplift_r)}+-{np.std(uplift_r)}    {np.mean(my_uplift_r)}+-{np.std(my_uplift_r)}\")"
   ]
  },
  {
   "cell_type": "code",
   "execution_count": null,
   "metadata": {
    "id": "SUzX7gzqRsL9",
    "outputId": "948de86a-f25d-4cd9-87c6-ff0111de02e6"
   },
   "outputs": [
    {
     "data": {
      "text/plain": [
       "<AxesSubplot:title={'center':'Uplift curve\\nuplift_auc_score=0.0042'}, xlabel='Number targeted', ylabel='Gain: treatment - control'>"
      ]
     },
     "execution_count": 107,
     "metadata": {
      "tags": []
     },
     "output_type": "execute_result"
    },
    {
     "data": {
      "image/png": "[encoded data removed]",
      "text/plain": [
       "<Figure size 576x432 with 1 Axes>"
      ]
     },
     "metadata": {
      "needs_background": "light",
      "tags": []
     },
     "output_type": "display_data"
    },
    {
     "data": {
      "image/png": "[encoded data removed]",
      "text/plain": [
       "<Figure size 576x432 with 1 Axes>"
      ]
     },
     "metadata": {
      "needs_background": "light",
      "tags": []
     },
     "output_type": "display_data"
    }
   ],
   "source": [
    "from sklift.viz import plot_qini_curve\n",
    "from sklift.viz import plot_uplift_curve\n",
    "# X learner\n",
    "plot_qini_curve(y_true=y_valid, uplift=predict_my_xlrn, treatment=w_valid, perfect=False)\n",
    "plot_uplift_curve(y_true=y_valid, uplift=predict_my_xlrn, treatment=w_valid, perfect=False)"
   ]
  },
  {
   "cell_type": "code",
   "execution_count": null,
   "metadata": {
    "id": "6x7kXHumRsL9",
    "outputId": "36c32609-072f-444b-982a-1573ae75124e"
   },
   "outputs": [
    {
     "data": {
      "text/plain": [
       "<AxesSubplot:title={'center':'Uplift curve\\nuplift_auc_score=0.0138'}, xlabel='Number targeted', ylabel='Gain: treatment - control'>"
      ]
     },
     "execution_count": 164,
     "metadata": {
      "tags": []
     },
     "output_type": "execute_result"
    },
    {
     "data": {
      "image/png": "[encoded data removed]",
      "text/plain": [
       "<Figure size 576x432 with 1 Axes>"
      ]
     },
     "metadata": {
      "needs_background": "light",
      "tags": []
     },
     "output_type": "display_data"
    },
    {
     "data": {
      "image/png": "[encoded data removed]",
      "text/plain": [
       "<Figure size 576x432 with 1 Axes>"
      ]
     },
     "metadata": {
      "needs_background": "light",
      "tags": []
     },
     "output_type": "display_data"
    }
   ],
   "source": [
    "from sklift.viz import plot_qini_curve\n",
    "from sklift.viz import plot_uplift_curve\n",
    "# X learner\n",
    "plot_qini_curve(y_true=y_valid, uplift=predict_my_rlrn, treatment=w_valid, perfect=False)\n",
    "plot_uplift_curve(y_true=y_valid, uplift=predict_my_rlrn, treatment=w_valid, perfect=False)"
   ]
  },
  {
   "cell_type": "code",
   "execution_count": null,
   "metadata": {
    "id": "SsKjIVjlRsL9"
   },
   "outputs": [],
   "source": []
  },
  {
   "cell_type": "code",
   "execution_count": null,
   "metadata": {
    "id": "0bBzGi7wmbf2"
   },
   "outputs": [],
   "source": []
  }
 ],
 "metadata": {
  "colab": {
   "collapsed_sections": [
    "_EYIXIcPTRrw"
   ],
   "name": "FINAL_PROJECT_BASE_LEARNERS.ipynb",
   "provenance": []
  },
  "kernelspec": {
   "display_name": "Python 3.7 (tensorflow)",
   "language": "python",
   "name": "tensorflow"
  },
  "language_info": {
   "codemirror_mode": {
    "name": "ipython",
    "version": 3
   },
   "file_extension": ".py",
   "mimetype": "text/x-python",
   "name": "python",
   "nbconvert_exporter": "python",
   "pygments_lexer": "ipython3",
   "version": "3.7.9"
  }
 },
 "nbformat": 4,
 "nbformat_minor": 1
}
