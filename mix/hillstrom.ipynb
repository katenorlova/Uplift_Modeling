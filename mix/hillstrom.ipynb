{
 "cells": [
  {
   "cell_type": "markdown",
   "metadata": {},
   "source": [
    "# Hillstrom dataset"
   ]
  },
  {
   "cell_type": "code",
   "execution_count": 1,
   "metadata": {},
   "outputs": [],
   "source": [
    "from pprint import pprint\n",
    "\n",
    "import pandas as pd\n",
    "import matplotlib.pyplot as plt\n",
    "from sklift.metrics import uplift_at_k\n",
    "from sklift.viz import plot_uplift_curve\n",
    "from sklift.viz import plot_qini_curve\n",
    "import numpy as np\n",
    "from sklearn.model_selection import train_test_split\n",
    "\n",
    "import warnings\n",
    "warnings.filterwarnings('ignore')\n"
   ]
  },
  {
   "cell_type": "code",
   "execution_count": 2,
   "metadata": {},
   "outputs": [],
   "source": [
    "import statsmodels.api as sm\n",
    "from xgboost import XGBRegressor\n",
    "from sklearn.linear_model import LinearRegression\n",
    "\n",
    "from causalml.inference.meta import BaseXRegressor, BaseRClassifier, BaseSClassifier, BaseTClassifier\n",
    "from causalml.dataset import *\n",
    "from causalml.metrics import *\n",
    "\n",
    "plt.style.use('fivethirtyeight')\n",
    "\n",
    "%matplotlib inline"
   ]
  },
  {
   "cell_type": "code",
   "execution_count": 3,
   "metadata": {},
   "outputs": [],
   "source": [
    "df = pd.read_csv('Hillstrom.csv')\n",
    "df.drop(['history_segment', \"conversion\", \"spend\"], axis=1, inplace=True)\n",
    "\n",
    "cat_cols = ['zip_code', 'channel']\n",
    "df_ohe = pd.get_dummies(df, columns=cat_cols)\n",
    "df_ohe.segment = df_ohe.segment.map({'Womens E-Mail': 1, 'Mens E-Mail': 1, 'No E-Mail': 0})\n",
    "\n",
    "X = df_ohe.drop('visit', axis=1)\n",
    "y = df_ohe['visit'].astype('int')\n",
    "\n",
    "X_train, X_test, y_train, y_test = train_test_split(X, y, test_size=0.33, random_state=0)\n",
    "\n",
    "treat_train = X_train['segment']\n",
    "treat_test = X_test['segment']\n",
    "\n",
    "X_train.drop(['segment'], axis=1, inplace=True)\n",
    "X_test.drop(['segment'], axis=1, inplace=True)"
   ]
  },
  {
   "cell_type": "markdown",
   "metadata": {},
   "source": [
    "# ATE"
   ]
  },
  {
   "cell_type": "code",
   "execution_count": 4,
   "metadata": {},
   "outputs": [
    {
     "data": {
      "text/plain": [
       "0.06088195726098464"
      ]
     },
     "execution_count": 4,
     "metadata": {},
     "output_type": "execute_result"
    }
   ],
   "source": [
    "def get_mean_target(treatment_flg):\n",
    "    return df_ohe[df_ohe['segment']==treatment_flg]['visit'].mean()\n",
    "\n",
    "get_mean_target(1) - get_mean_target(0)"
   ]
  },
  {
   "cell_type": "markdown",
   "metadata": {},
   "source": [
    "# Double machine learning"
   ]
  },
  {
   "cell_type": "code",
   "execution_count": 5,
   "metadata": {},
   "outputs": [
    {
     "name": "stdout",
     "output_type": "stream",
     "text": [
      "[LightGBM] [Warning] Accuracy may be bad since you didn't explicitly set num_leaves OR 2^max_depth > num_leaves. (num_leaves=31).\n",
      "[LightGBM] [Warning] Accuracy may be bad since you didn't explicitly set num_leaves OR 2^max_depth > num_leaves. (num_leaves=31).\n",
      "Uplift at 30: 0.06621646211330146\n"
     ]
    }
   ],
   "source": [
    "from econml.dml import LinearDMLCateEstimator\n",
    "from lightgbm import LGBMClassifier\n",
    "\n",
    "est = LinearDMLCateEstimator(model_y=LGBMClassifier(max_depth=5), \n",
    "                             model_t=LGBMClassifier(max_depth=5),\n",
    "                             discrete_treatment=True)\n",
    "est.fit(y_train, treat_train, X_train)\n",
    "uplift = est.const_marginal_effect(X_test)[:, 0]\n",
    "score = uplift_at_k(y_true=y_test, uplift=uplift, treatment=treat_test, strategy='by_group', k=0.3)\n",
    "\n",
    "print(f\"Uplift at 30: {score}\")"
   ]
  },
  {
   "cell_type": "code",
   "execution_count": 6,
   "metadata": {},
   "outputs": [
    {
     "name": "stdout",
     "output_type": "stream",
     "text": [
      "Uplift at 30: 0.062120697271015865\n"
     ]
    }
   ],
   "source": [
    "from econml.dml import NonParamDMLCateEstimator\n",
    "from sklearn.ensemble import GradientBoostingRegressor\n",
    "from lightgbm import LGBMRegressor\n",
    "\n",
    "est = NonParamDMLCateEstimator(model_y=LGBMRegressor(),\n",
    "                               model_t=LGBMRegressor(),\n",
    "                               model_final=LGBMRegressor())\n",
    "est.fit(y_train, treat_train, X_train)\n",
    "uplift = est.effect(X_test.values)\n",
    "score = uplift_at_k(y_true=y_test, uplift=uplift, treatment=treat_test, strategy='by_group', k=0.3)\n",
    "\n",
    "print(f\"Uplift at 30: {score}\")"
   ]
  },
  {
   "cell_type": "markdown",
   "metadata": {},
   "source": [
    "# Meta Learners"
   ]
  },
  {
   "cell_type": "markdown",
   "metadata": {},
   "source": [
    "## T-learner"
   ]
  },
  {
   "cell_type": "code",
   "execution_count": 7,
   "metadata": {},
   "outputs": [
    {
     "name": "stdout",
     "output_type": "stream",
     "text": [
      "econml\t\t| Uplift at 30: 0.07447698924023219\n",
      "causalml\t| Uplift at 30: 0.06102530650309912\n",
      "sklift\t\t| Uplift at 30: 0.06102530650309912\n"
     ]
    }
   ],
   "source": [
    "#econml\n",
    "from econml.metalearners import TLearner\n",
    "\n",
    "est = TLearner(LGBMClassifier())\n",
    "est.fit(y_train, treat_train, X_train)\n",
    "uplift = np.squeeze(est.const_marginal_effect(X_test.values))\n",
    "score = uplift_at_k(y_true=y_test, uplift=uplift, treatment=treat_test, strategy='by_group', k=0.3)\n",
    "print(f\"econml\\t\\t| Uplift at 30: {score}\")\n",
    "\n",
    "#causalml\n",
    "# T Learner\n",
    "learner_t = BaseTClassifier(learner=LGBMClassifier())\n",
    "learner_t.fit(X=X_train, treatment=treat_train, y=y_train)\n",
    "cate_t = np.squeeze(learner_t.predict(X_test.values))\n",
    "score = uplift_at_k(y_true=y_test, uplift=cate_t, treatment=treat_test, strategy='by_group', k=0.3)\n",
    "print(f\"causalml\\t| Uplift at 30: {score}\")\n",
    "\n",
    "#sklift\n",
    "from sklift.models import TwoModels\n",
    "tm = TwoModels(estimator_trmnt=LGBMClassifier(), estimator_ctrl=LGBMClassifier(), method='vanilla')\n",
    "tm = tm.fit(X_train, y_train, treat_train)\n",
    "uplift_tm = tm.predict(X_test.values)\n",
    "score = uplift_at_k(y_true=y_test, uplift=uplift_tm, treatment=treat_test, strategy='by_group', k=0.3)\n",
    "print(f\"sklift\\t\\t| Uplift at 30: {score}\")"
   ]
  },
  {
   "cell_type": "code",
   "execution_count": 8,
   "metadata": {},
   "outputs": [
    {
     "data": {
      "text/plain": [
       "<AxesSubplot:title={'center':'Qini curve\\nqini_auc_score=-0.0028'}, xlabel='Number targeted', ylabel='Number of incremental outcome'>"
      ]
     },
     "execution_count": 8,
     "metadata": {},
     "output_type": "execute_result"
    },
    {
     "data": {
      "image/png": "[encoded data removed]",
      "text/plain": [
       "<Figure size 576x432 with 1 Axes>"
      ]
     },
     "metadata": {
      "needs_background": "light"
     },
     "output_type": "display_data"
    }
   ],
   "source": [
    "plot_qini_curve(y_true=y_test, uplift=cate_t, treatment=treat_test, negative_effect=True, perfect=False)"
   ]
  },
  {
   "cell_type": "markdown",
   "metadata": {},
   "source": [
    "## S-learner"
   ]
  },
  {
   "cell_type": "code",
   "execution_count": 9,
   "metadata": {},
   "outputs": [
    {
     "name": "stdout",
     "output_type": "stream",
     "text": [
      "econml\t\t| Uplift at 30: 0.07399829129863333\n",
      "causalml\t| Uplift at 30: 0.06677734818476973\n",
      "sklift\t\t| Uplift at 30: 0.06677734818476973\n"
     ]
    }
   ],
   "source": [
    "#econml\n",
    "from econml.metalearners import SLearner\n",
    "\n",
    "est = SLearner(LGBMClassifier())\n",
    "est.fit(y_train, treat_train, X_train)\n",
    "uplift = np.squeeze(est.const_marginal_effect(X_test.values))\n",
    "score = uplift_at_k(y_true=y_test, uplift=uplift, treatment=treat_test, strategy='by_group', k=0.3)\n",
    "print(f\"econml\\t\\t| Uplift at 30: {score}\")\n",
    "\n",
    "\n",
    "#causalml\n",
    "# S Learner\n",
    "learner_s = BaseSClassifier(learner=LGBMClassifier())\n",
    "learner_s.fit(X=X_train, treatment=treat_train, y=y_train)\n",
    "cate_s = np.squeeze(learner_s.predict(X_test.values))\n",
    "score = uplift_at_k(y_true=y_test, uplift=cate_s, treatment=treat_test, strategy='by_group', k=0.3)\n",
    "print(f\"causalml\\t| Uplift at 30: {score}\")\n",
    "\n",
    "\n",
    "#sklift\n",
    "from sklift.models import SoloModel\n",
    "\n",
    "sm = SoloModel(LGBMClassifier())\n",
    "sm = sm.fit(X_train, y_train, treat_train)\n",
    "uplift_sm = sm.predict(X_test.values)\n",
    "score = uplift_at_k(y_true=y_test, uplift=uplift_sm, treatment=treat_test, strategy='by_group', k=0.3)\n",
    "print(f\"sklift\\t\\t| Uplift at 30: {score}\")"
   ]
  },
  {
   "cell_type": "code",
   "execution_count": 10,
   "metadata": {},
   "outputs": [
    {
     "data": {
      "image/png": "[encoded data removed]",
      "text/plain": [
       "<Figure size 576x576 with 1 Axes>"
      ]
     },
     "metadata": {
      "needs_background": "light"
     },
     "output_type": "display_data"
    }
   ],
   "source": [
    "plot_qini(pd.DataFrame([y_test, uplift, treat_test], columns =['y_test', 'uplift', 'treat_test']), 'y_test', 'treat_test', 'uplift')"
   ]
  },
  {
   "cell_type": "code",
   "execution_count": 11,
   "metadata": {},
   "outputs": [],
   "source": [
    "# plot_qini_curve(y_true=y_test, uplift=uplift, treatment=treat_test, negative_effect=True, perfect=False)\n",
    "# plot_qini_curve(y_true=y_test, uplift=cate_s, treatment=treat_test, negative_effect=True, perfect=False)\n",
    "# plot_qini_curve(y_true=y_test, uplift=uplift_sm, treatment=treat_test, negative_effect=True, perfect=False)"
   ]
  },
  {
   "cell_type": "markdown",
   "metadata": {},
   "source": [
    "## X-Learner"
   ]
  },
  {
   "cell_type": "code",
   "execution_count": 12,
   "metadata": {
    "scrolled": true
   },
   "outputs": [
    {
     "name": "stdout",
     "output_type": "stream",
     "text": [
      "econml\t\t| Uplift at 30: 0.07305622818040441\n",
      "causalml\t| Uplift at 30: 0.07305622818040441\n"
     ]
    }
   ],
   "source": [
    "#econml\n",
    "from econml.metalearners import XLearner\n",
    "\n",
    "est = XLearner(LGBMClassifier())\n",
    "est.fit(y_train, treat_train, X_train)\n",
    "uplift = np.squeeze(est.const_marginal_effect(X_test.values))\n",
    "score = uplift_at_k(y_true=y_test, uplift=uplift, treatment=treat_test, strategy='by_group', k=0.3)\n",
    "print(f\"econml\\t\\t| Uplift at 30: {score}\")\n",
    "\n",
    "#causalml\n",
    "# X Learner\n",
    "learner_x = BaseXRegressor(learner=LGBMClassifier())\n",
    "learner_x.fit(X=X_train, treatment=treat_train, y=y_train)\n",
    "cate_x = np.squeeze(learner_x.predict(X_test.values))\n",
    "score = uplift_at_k(y_true=y_test, uplift=cate_x, treatment=treat_test, strategy='by_group', k=0.3)\n",
    "print(f\"causalml\\t| Uplift at 30: {score}\")"
   ]
  },
  {
   "cell_type": "code",
   "execution_count": 13,
   "metadata": {},
   "outputs": [
    {
     "data": {
      "image/png": "[encoded data removed]",
      "text/plain": [
       "<Figure size 576x432 with 1 Axes>"
      ]
     },
     "metadata": {
      "needs_background": "light"
     },
     "output_type": "display_data"
    }
   ],
   "source": [
    "plot_qini_curve(y_true=y_test, uplift=cate_x, treatment=treat_test, perfect=False);"
   ]
  },
  {
   "cell_type": "code",
   "execution_count": null,
   "metadata": {},
   "outputs": [],
   "source": []
  }
 ],
 "metadata": {
  "kernelspec": {
   "display_name": "Python 3.7 (tensorflow)",
   "language": "python",
   "name": "tensorflow"
  },
  "language_info": {
   "codemirror_mode": {
    "name": "ipython",
    "version": 3
   },
   "file_extension": ".py",
   "mimetype": "text/x-python",
   "name": "python",
   "nbconvert_exporter": "python",
   "pygments_lexer": "ipython3",
   "version": "3.7.9"
  }
 },
 "nbformat": 4,
 "nbformat_minor": 2
}
