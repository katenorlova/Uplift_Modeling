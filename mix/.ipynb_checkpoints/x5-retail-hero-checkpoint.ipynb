{
 "cells": [
  {
   "cell_type": "markdown",
   "metadata": {},
   "source": [
    "# X5 Retail Hero dataset"
   ]
  },
  {
   "cell_type": "code",
   "execution_count": 19,
   "metadata": {},
   "outputs": [],
   "source": [
    "from pprint import pprint\n",
    "\n",
    "import pandas as pd\n",
    "import matplotlib.pyplot as plt\n",
    "from sklift.metrics import uplift_at_k\n",
    "from sklift.viz import plot_uplift_curve\n",
    "from sklift.viz import plot_qini_curve\n",
    "import numpy as np\n",
    "\n",
    "import warnings\n",
    "warnings.filterwarnings('ignore')\n"
   ]
  },
  {
   "cell_type": "code",
   "execution_count": 20,
   "metadata": {},
   "outputs": [],
   "source": [
    "import statsmodels.api as sm\n",
    "from xgboost import XGBRegressor\n",
    "from sklearn.linear_model import LinearRegression\n",
    "\n",
    "from causalml.inference.meta import LRSRegressor\n",
    "from causalml.inference.meta import XGBTRegressor, MLPTRegressor\n",
    "from causalml.inference.meta import BaseXRegressor, BaseRRegressor, BaseSRegressor, BaseTRegressor\n",
    "from causalml.match import NearestNeighborMatch, MatchOptimizer, create_table_one\n",
    "from causalml.propensity import ElasticNetPropensityModel\n",
    "from causalml.dataset import *\n",
    "from causalml.metrics import *\n",
    "\n",
    "plt.style.use('fivethirtyeight')\n",
    "\n",
    "%matplotlib inline"
   ]
  },
  {
   "cell_type": "code",
   "execution_count": 21,
   "metadata": {},
   "outputs": [],
   "source": [
    "df_clients = pd.read_csv('clients.csv', index_col='client_id')\n",
    "df_train = pd.read_csv('uplift_train.csv', index_col='client_id')\n",
    "df_test = pd.read_csv('uplift_test.csv', index_col='client_id')"
   ]
  },
  {
   "cell_type": "code",
   "execution_count": 22,
   "metadata": {},
   "outputs": [
    {
     "data": {
      "text/plain": [
       "Timestamp('2017-04-04 18:24:18')"
      ]
     },
     "execution_count": 22,
     "metadata": {},
     "output_type": "execute_result"
    }
   ],
   "source": [
    "pd.to_datetime(df_clients['first_issue_date']).min()"
   ]
  },
  {
   "cell_type": "code",
   "execution_count": 23,
   "metadata": {},
   "outputs": [],
   "source": [
    "from sklearn.model_selection import train_test_split\n",
    "\n",
    "df_features = df_clients.copy()\n",
    "df_features['first_issue_time'] = \\\n",
    "    (pd.to_datetime(df_features['first_issue_date'])\n",
    "     - pd.to_datetime(df_features['first_issue_date']).min()) / pd.Timedelta('365d')\n",
    "\n",
    "df_features['first_redeem_time'] = \\\n",
    "    (pd.to_datetime(df_features['first_redeem_date'])\n",
    "     - pd.to_datetime(df_features['first_redeem_date']).min()) / pd.Timedelta('365d')\n",
    "\n",
    "df_features['issue_redeem_delay'] = df_features['first_redeem_time'] \\\n",
    "    - df_features['first_issue_time']\n",
    "\n",
    "df_features = df_features.join(pd.get_dummies(df_features['gender']))\n",
    "df_features['first_redeem_time'] = df_features['first_redeem_time'].fillna(df_features['first_redeem_time'].mean())\n",
    "df_features['issue_redeem_delay'] = df_features['issue_redeem_delay'].fillna(df_features['issue_redeem_delay'].mean())\n",
    "\n",
    "df_features = df_features.drop(['first_issue_date', 'first_redeem_date', 'gender'], axis=1)\n",
    "\n",
    "indices_train = df_train.index\n",
    "indices_test = df_test.index\n",
    "indices_learn, indices_valid = train_test_split(df_train.index, test_size=0.3, random_state=123)"
   ]
  },
  {
   "cell_type": "code",
   "execution_count": 24,
   "metadata": {
    "scrolled": true
   },
   "outputs": [
    {
     "data": {
      "text/html": [
       "<div>\n",
       "<style scoped>\n",
       "    .dataframe tbody tr th:only-of-type {\n",
       "        vertical-align: middle;\n",
       "    }\n",
       "\n",
       "    .dataframe tbody tr th {\n",
       "        vertical-align: top;\n",
       "    }\n",
       "\n",
       "    .dataframe thead th {\n",
       "        text-align: right;\n",
       "    }\n",
       "</style>\n",
       "<table border=\"1\" class=\"dataframe\">\n",
       "  <thead>\n",
       "    <tr style=\"text-align: right;\">\n",
       "      <th></th>\n",
       "      <th>age</th>\n",
       "      <th>first_issue_time</th>\n",
       "      <th>first_redeem_time</th>\n",
       "      <th>issue_redeem_delay</th>\n",
       "      <th>F</th>\n",
       "      <th>M</th>\n",
       "      <th>U</th>\n",
       "    </tr>\n",
       "    <tr>\n",
       "      <th>client_id</th>\n",
       "      <th></th>\n",
       "      <th></th>\n",
       "      <th></th>\n",
       "      <th></th>\n",
       "      <th></th>\n",
       "      <th></th>\n",
       "      <th></th>\n",
       "    </tr>\n",
       "  </thead>\n",
       "  <tbody>\n",
       "    <tr>\n",
       "      <th>000012768d</th>\n",
       "      <td>45</td>\n",
       "      <td>0.336675</td>\n",
       "      <td>0.735365</td>\n",
       "      <td>0.398690</td>\n",
       "      <td>0</td>\n",
       "      <td>0</td>\n",
       "      <td>1</td>\n",
       "    </tr>\n",
       "    <tr>\n",
       "      <th>000036f903</th>\n",
       "      <td>72</td>\n",
       "      <td>0.015925</td>\n",
       "      <td>0.033211</td>\n",
       "      <td>0.017286</td>\n",
       "      <td>1</td>\n",
       "      <td>0</td>\n",
       "      <td>0</td>\n",
       "    </tr>\n",
       "    <tr>\n",
       "      <th>000048b7a6</th>\n",
       "      <td>68</td>\n",
       "      <td>1.698076</td>\n",
       "      <td>1.208236</td>\n",
       "      <td>0.476130</td>\n",
       "      <td>1</td>\n",
       "      <td>0</td>\n",
       "      <td>0</td>\n",
       "    </tr>\n",
       "    <tr>\n",
       "      <th>000073194a</th>\n",
       "      <td>60</td>\n",
       "      <td>0.133622</td>\n",
       "      <td>0.622100</td>\n",
       "      <td>0.488477</td>\n",
       "      <td>1</td>\n",
       "      <td>0</td>\n",
       "      <td>0</td>\n",
       "    </tr>\n",
       "    <tr>\n",
       "      <th>00007c7133</th>\n",
       "      <td>67</td>\n",
       "      <td>0.131265</td>\n",
       "      <td>1.724154</td>\n",
       "      <td>1.592889</td>\n",
       "      <td>0</td>\n",
       "      <td>0</td>\n",
       "      <td>1</td>\n",
       "    </tr>\n",
       "    <tr>\n",
       "      <th>...</th>\n",
       "      <td>...</td>\n",
       "      <td>...</td>\n",
       "      <td>...</td>\n",
       "      <td>...</td>\n",
       "      <td>...</td>\n",
       "      <td>...</td>\n",
       "      <td>...</td>\n",
       "    </tr>\n",
       "    <tr>\n",
       "      <th>fffece623e</th>\n",
       "      <td>67</td>\n",
       "      <td>1.106479</td>\n",
       "      <td>1.713402</td>\n",
       "      <td>0.606924</td>\n",
       "      <td>0</td>\n",
       "      <td>0</td>\n",
       "      <td>1</td>\n",
       "    </tr>\n",
       "    <tr>\n",
       "      <th>ffff3dfff8</th>\n",
       "      <td>56</td>\n",
       "      <td>1.577821</td>\n",
       "      <td>1.658431</td>\n",
       "      <td>0.080611</td>\n",
       "      <td>1</td>\n",
       "      <td>0</td>\n",
       "      <td>0</td>\n",
       "    </tr>\n",
       "    <tr>\n",
       "      <th>ffffaab9da</th>\n",
       "      <td>23</td>\n",
       "      <td>0.391817</td>\n",
       "      <td>0.661208</td>\n",
       "      <td>0.269391</td>\n",
       "      <td>1</td>\n",
       "      <td>0</td>\n",
       "      <td>0</td>\n",
       "    </tr>\n",
       "    <tr>\n",
       "      <th>ffffeb5619</th>\n",
       "      <td>62</td>\n",
       "      <td>0.670666</td>\n",
       "      <td>1.208236</td>\n",
       "      <td>0.476130</td>\n",
       "      <td>0</td>\n",
       "      <td>0</td>\n",
       "      <td>1</td>\n",
       "    </tr>\n",
       "    <tr>\n",
       "      <th>fffff6ce77</th>\n",
       "      <td>42</td>\n",
       "      <td>0.331737</td>\n",
       "      <td>0.376140</td>\n",
       "      <td>0.044403</td>\n",
       "      <td>0</td>\n",
       "      <td>0</td>\n",
       "      <td>1</td>\n",
       "    </tr>\n",
       "  </tbody>\n",
       "</table>\n",
       "<p>400162 rows × 7 columns</p>\n",
       "</div>"
      ],
      "text/plain": [
       "            age  first_issue_time  first_redeem_time  issue_redeem_delay  F  \\\n",
       "client_id                                                                     \n",
       "000012768d   45          0.336675           0.735365            0.398690  0   \n",
       "000036f903   72          0.015925           0.033211            0.017286  1   \n",
       "000048b7a6   68          1.698076           1.208236            0.476130  1   \n",
       "000073194a   60          0.133622           0.622100            0.488477  1   \n",
       "00007c7133   67          0.131265           1.724154            1.592889  0   \n",
       "...         ...               ...                ...                 ... ..   \n",
       "fffece623e   67          1.106479           1.713402            0.606924  0   \n",
       "ffff3dfff8   56          1.577821           1.658431            0.080611  1   \n",
       "ffffaab9da   23          0.391817           0.661208            0.269391  1   \n",
       "ffffeb5619   62          0.670666           1.208236            0.476130  0   \n",
       "fffff6ce77   42          0.331737           0.376140            0.044403  0   \n",
       "\n",
       "            M  U  \n",
       "client_id         \n",
       "000012768d  0  1  \n",
       "000036f903  0  0  \n",
       "000048b7a6  0  0  \n",
       "000073194a  0  0  \n",
       "00007c7133  0  1  \n",
       "...        .. ..  \n",
       "fffece623e  0  1  \n",
       "ffff3dfff8  0  0  \n",
       "ffffaab9da  0  0  \n",
       "ffffeb5619  0  1  \n",
       "fffff6ce77  0  1  \n",
       "\n",
       "[400162 rows x 7 columns]"
      ]
     },
     "execution_count": 24,
     "metadata": {},
     "output_type": "execute_result"
    }
   ],
   "source": [
    "df_features"
   ]
  },
  {
   "cell_type": "code",
   "execution_count": 25,
   "metadata": {},
   "outputs": [],
   "source": [
    "X_train = df_features.loc[indices_learn, :]\n",
    "y_train = df_train.loc[indices_learn, 'target']\n",
    "treat_train = df_train.loc[indices_learn, 'treatment_flg']\n",
    "\n",
    "X_val = df_features.loc[indices_valid, :]\n",
    "y_val = df_train.loc[indices_valid, 'target']\n",
    "treat_val =  df_train.loc[indices_valid, 'treatment_flg']\n",
    "\n",
    "X_train_full = df_features.loc[indices_train, :]\n",
    "y_train_full = df_train.loc[:, 'target']\n",
    "treat_train_full = df_train.loc[:, 'treatment_flg']\n",
    "\n",
    "X_test = df_features.loc[indices_test, :]\n",
    "\n",
    "cat_features = ['gender']"
   ]
  },
  {
   "cell_type": "markdown",
   "metadata": {},
   "source": [
    "# ATE"
   ]
  },
  {
   "cell_type": "code",
   "execution_count": 26,
   "metadata": {},
   "outputs": [
    {
     "data": {
      "text/plain": [
       "0.0325018461092893"
      ]
     },
     "execution_count": 26,
     "metadata": {},
     "output_type": "execute_result"
    }
   ],
   "source": [
    "def get_mean_target(treatment_flg):\n",
    "    return df_train.loc[indices_valid][df_train['treatment_flg']==treatment_flg]['target'].mean()\n",
    "\n",
    "get_mean_target(1) - get_mean_target(0)"
   ]
  },
  {
   "cell_type": "markdown",
   "metadata": {},
   "source": [
    "# Double machine learning"
   ]
  },
  {
   "cell_type": "code",
   "execution_count": 27,
   "metadata": {},
   "outputs": [
    {
     "name": "stdout",
     "output_type": "stream",
     "text": [
      "[LightGBM] [Warning] Accuracy may be bad since you didn't explicitly set num_leaves OR 2^max_depth > num_leaves. (num_leaves=31).\n",
      "[LightGBM] [Warning] Accuracy may be bad since you didn't explicitly set num_leaves OR 2^max_depth > num_leaves. (num_leaves=31).\n",
      "Uplift at 30: 0.035742519915002435\n"
     ]
    }
   ],
   "source": [
    "from econml.dml import LinearDMLCateEstimator\n",
    "from lightgbm import LGBMClassifier\n",
    "\n",
    "est = LinearDMLCateEstimator(model_y=LGBMClassifier(max_depth=5), \n",
    "                             model_t=LGBMClassifier(max_depth=5),\n",
    "                             discrete_treatment=True)\n",
    "est.fit(y_train, treat_train, X_train)\n",
    "uplift = est.const_marginal_effect(X_val)[:, 0]\n",
    "score = uplift_at_k(y_true=y_val, uplift=uplift, treatment=treat_val, strategy='by_group', k=0.3)\n",
    "\n",
    "print(f\"Uplift at 30: {score}\")"
   ]
  },
  {
   "cell_type": "code",
   "execution_count": 28,
   "metadata": {},
   "outputs": [
    {
     "name": "stdout",
     "output_type": "stream",
     "text": [
      "Uplift at 30: 0.03930884115330768\n"
     ]
    }
   ],
   "source": [
    "from econml.dml import NonParamDMLCateEstimator\n",
    "from sklearn.ensemble import GradientBoostingRegressor\n",
    "from lightgbm import LGBMRegressor\n",
    "\n",
    "est = NonParamDMLCateEstimator(model_y=LGBMRegressor(),\n",
    "                               model_t=LGBMRegressor(),\n",
    "                               model_final=LGBMRegressor())\n",
    "est.fit(y_train, treat_train, X_train)\n",
    "uplift = est.effect(X_val.values)\n",
    "score = uplift_at_k(y_true=y_val, uplift=uplift, treatment=treat_val, strategy='by_group', k=0.3)\n",
    "\n",
    "print(f\"Uplift at 30: {score}\")"
   ]
  },
  {
   "cell_type": "markdown",
   "metadata": {},
   "source": [
    "# Meta Learners"
   ]
  },
  {
   "cell_type": "markdown",
   "metadata": {},
   "source": [
    "## T-learner"
   ]
  },
  {
   "cell_type": "code",
   "execution_count": 29,
   "metadata": {},
   "outputs": [
    {
     "name": "stdout",
     "output_type": "stream",
     "text": [
      "econml\t\t| Uplift at 30: 0.03794739518817292\n",
      "causalml\t| Uplift at 30: 0.03794739518817292\n",
      "sklift\t\t| Uplift at 30: 0.05265201869140057\n"
     ]
    }
   ],
   "source": [
    "#econml\n",
    "from econml.metalearners import TLearner\n",
    "\n",
    "est = TLearner(LGBMClassifier())\n",
    "est.fit(y_train, treat_train, X_train)\n",
    "uplift = np.squeeze(est.const_marginal_effect(X_val.values))\n",
    "score = uplift_at_k(y_true=y_val, uplift=uplift, treatment=treat_val, strategy='by_group', k=0.3)\n",
    "print(f\"econml\\t\\t| Uplift at 30: {score}\")\n",
    "\n",
    "#causalml\n",
    "# T Learner\n",
    "learner_t = BaseTRegressor(learner=LGBMClassifier())\n",
    "learner_t.fit(X=X_train, treatment=treat_train, y=y_train)\n",
    "cate_t = np.squeeze(learner_t.predict(X_val.values))\n",
    "score = uplift_at_k(y_true=y_val, uplift=cate_t, treatment=treat_val, strategy='by_group', k=0.3)\n",
    "print(f\"causalml\\t| Uplift at 30: {score}\")\n",
    "\n",
    "#sklift\n",
    "from sklift.models import TwoModels\n",
    "tm = TwoModels(estimator_trmnt=LGBMClassifier(), estimator_ctrl=LGBMClassifier(), method='vanilla')\n",
    "tm = tm.fit(X_train, y_train, treat_train)\n",
    "uplift_tm = tm.predict(X_val.values)\n",
    "score = uplift_at_k(y_true=y_val, uplift=uplift_tm, treatment=treat_val, strategy='by_group', k=0.3)\n",
    "print(f\"sklift\\t\\t| Uplift at 30: {score}\")"
   ]
  },
  {
   "cell_type": "code",
   "execution_count": 30,
   "metadata": {},
   "outputs": [
    {
     "data": {
      "text/plain": [
       "<AxesSubplot:title={'center':'Qini curve\\nqini_auc_score=0.0010'}, xlabel='Number targeted', ylabel='Number of incremental outcome'>"
      ]
     },
     "execution_count": 30,
     "metadata": {},
     "output_type": "execute_result"
    },
    {
     "data": {
      "image/png": "[encoded data removed]",
      "text/plain": [
       "<Figure size 576x432 with 1 Axes>"
      ]
     },
     "metadata": {
      "needs_background": "light"
     },
     "output_type": "display_data"
    }
   ],
   "source": [
    "plot_qini_curve(y_true=y_val, uplift=cate_t, treatment=treat_val, negative_effect=True)"
   ]
  },
  {
   "cell_type": "markdown",
   "metadata": {},
   "source": [
    "## S-learner"
   ]
  },
  {
   "cell_type": "code",
   "execution_count": 31,
   "metadata": {},
   "outputs": [
    {
     "name": "stdout",
     "output_type": "stream",
     "text": [
      "econml\t\t| Uplift at 30: 0.037609394040101884\n",
      "causalml\t| Uplift at 30: 0.037609394040101884\n",
      "sklift\t\t| Uplift at 30: 0.03968712549221021\n"
     ]
    }
   ],
   "source": [
    "#econml\n",
    "from econml.metalearners import SLearner\n",
    "\n",
    "est = SLearner(LGBMClassifier())\n",
    "est.fit(y_train, treat_train, X_train)\n",
    "uplift = np.squeeze(est.const_marginal_effect(X_val.values))\n",
    "score = uplift_at_k(y_true=y_val, uplift=uplift, treatment=treat_val, strategy='by_group', k=0.3)\n",
    "print(f\"econml\\t\\t| Uplift at 30: {score}\")\n",
    "\n",
    "\n",
    "#causalml\n",
    "# S Learner\n",
    "learner_s = BaseSRegressor(learner=LGBMClassifier())\n",
    "learner_s.fit(X=X_train, treatment=treat_train, y=y_train)\n",
    "cate_s = np.squeeze(learner_s.predict(X_val.values))\n",
    "score = uplift_at_k(y_true=y_val, uplift=cate_s, treatment=treat_val, strategy='by_group', k=0.3)\n",
    "print(f\"causalml\\t| Uplift at 30: {score}\")\n",
    "\n",
    "\n",
    "#sklift\n",
    "from sklift.models import SoloModel\n",
    "\n",
    "sm = SoloModel(LGBMClassifier())\n",
    "sm = sm.fit(X_train, y_train, treat_train)\n",
    "uplift_sm = sm.predict(X_val.values)\n",
    "score = uplift_at_k(y_true=y_val, uplift=uplift_sm, treatment=treat_val, strategy='by_group', k=0.3)\n",
    "print(f\"sklift\\t\\t| Uplift at 30: {score}\")"
   ]
  },
  {
   "cell_type": "code",
   "execution_count": 32,
   "metadata": {},
   "outputs": [
    {
     "data": {
      "text/plain": [
       "<AxesSubplot:title={'center':'Qini curve\\nqini_auc_score=0.0003'}, xlabel='Number targeted', ylabel='Number of incremental outcome'>"
      ]
     },
     "execution_count": 32,
     "metadata": {},
     "output_type": "execute_result"
    },
    {
     "data": {
      "image/png": "[encoded data removed]",
      "text/plain": [
       "<Figure size 576x432 with 1 Axes>"
      ]
     },
     "metadata": {
      "needs_background": "light"
     },
     "output_type": "display_data"
    }
   ],
   "source": [
    "plot_qini_curve(y_true=y_val, uplift=cate_s, treatment=treat_val, negative_effect=True)"
   ]
  },
  {
   "cell_type": "markdown",
   "metadata": {},
   "source": [
    "## X-Learner"
   ]
  },
  {
   "cell_type": "code",
   "execution_count": null,
   "metadata": {
    "scrolled": true
   },
   "outputs": [
    {
     "name": "stdout",
     "output_type": "stream",
     "text": [
      "econml\t\t| Uplift at 30: 0.037942989214175604\n"
     ]
    }
   ],
   "source": [
    "#econml\n",
    "from econml.metalearners import XLearner\n",
    "\n",
    "est = XLearner(LGBMClassifier())\n",
    "est.fit(y_train, treat_train, X_train)\n",
    "uplift = np.squeeze(est.const_marginal_effect(X_val.values))\n",
    "score = uplift_at_k(y_true=y_val, uplift=uplift, treatment=treat_val, strategy='by_group', k=0.3)\n",
    "print(f\"econml\\t\\t| Uplift at 30: {score}\")\n",
    "\n",
    "#causalml\n",
    "# X Learner\n",
    "learner_x = BaseXRegressor(learner=LGBMClassifier())\n",
    "learner_x.fit(X=X_train, treatment=treat_train, y=y_train)\n",
    "cate_x = np.squeeze(learner_x.predict(X_val.values))\n",
    "score = uplift_at_k(y_true=y_val, uplift=cate_x, treatment=treat_val, strategy='by_group', k=0.3)\n",
    "print(f\"causalml\\t| Uplift at 30: {score}\")"
   ]
  },
  {
   "cell_type": "code",
   "execution_count": null,
   "metadata": {},
   "outputs": [],
   "source": [
    "plot_uplift_curve(y_true=y_val, uplift=cate_x, treatment=treat_val);"
   ]
  }
 ],
 "metadata": {
  "kernelspec": {
   "display_name": "Python 3.7 (tensorflow)",
   "language": "python",
   "name": "tensorflow"
  },
  "language_info": {
   "codemirror_mode": {
    "name": "ipython",
    "version": 3
   },
   "file_extension": ".py",
   "mimetype": "text/x-python",
   "name": "python",
   "nbconvert_exporter": "python",
   "pygments_lexer": "ipython3",
   "version": "3.7.9"
  }
 },
 "nbformat": 4,
 "nbformat_minor": 2
}
